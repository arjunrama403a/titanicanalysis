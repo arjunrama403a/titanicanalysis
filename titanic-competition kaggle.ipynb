{
 "cells": [
  {
   "cell_type": "markdown",
   "id": "beabc59c",
   "metadata": {
    "papermill": {
     "duration": 0.047566,
     "end_time": "2022-01-25T14:35:36.524972",
     "exception": false,
     "start_time": "2022-01-25T14:35:36.477406",
     "status": "completed"
    },
    "tags": []
   },
   "source": [
    "The sinking of the Titanic is an event that shocked the world, almost everyone knows this incident. This is a dataset analysis project from Titanic containing passenger data. We will analyze whether a passenger survived or not in this incident by using the existing features.\n",
    "\n",
    "Here there are 2 datasets, namely train and test in .csv format."
   ]
  },
  {
   "cell_type": "code",
   "execution_count": 1,
   "id": "d159d58f",
   "metadata": {
    "_cell_guid": "b1076dfc-b9ad-4769-8c92-a6c4dae69d19",
    "_uuid": "8f2839f25d086af736a60e9eeb907d3b93b6e0e5",
    "execution": {
     "iopub.execute_input": "2022-01-25T14:35:36.630048Z",
     "iopub.status.busy": "2022-01-25T14:35:36.628869Z",
     "iopub.status.idle": "2022-01-25T14:35:37.842931Z",
     "shell.execute_reply": "2022-01-25T14:35:37.841994Z",
     "shell.execute_reply.started": "2022-01-25T13:51:19.279585Z"
    },
    "papermill": {
     "duration": 1.270599,
     "end_time": "2022-01-25T14:35:37.843138",
     "exception": false,
     "start_time": "2022-01-25T14:35:36.572539",
     "status": "completed"
    },
    "tags": []
   },
   "outputs": [
    {
     "name": "stdout",
     "output_type": "stream",
     "text": [
      "/kaggle/input/titanic/train.csv\n",
      "/kaggle/input/titanic/test.csv\n",
      "/kaggle/input/titanic/gender_submission.csv\n"
     ]
    }
   ],
   "source": [
    "# This Python 3 environment comes with many helpful analytics libraries installed\n",
    "# It is defined by the kaggle/python Docker image: https://github.com/kaggle/docker-python\n",
    "# For example, here's several helpful packages to load\n",
    "\n",
    "import numpy as np # linear algebra\n",
    "import pandas as pd # data processing, CSV file I/O (e.g. pd.read_csv)\n",
    "import matplotlib.pyplot as plt\n",
    "import seaborn as sns\n",
    "\n",
    "# Input data files are available in the read-only \"../input/\" directory\n",
    "# For example, running this (by clicking run or pressing Shift+Enter) will list all files under the input directory\n",
    "\n",
    "import os\n",
    "for dirname, _, filenames in os.walk('/kaggle/input'):\n",
    "    for filename in filenames:\n",
    "        print(os.path.join(dirname, filename))\n",
    "\n",
    "# You can write up to 20GB to the current directory (/kaggle/working/) that gets preserved as output when you create a version using \"Save & Run All\" \n",
    "# You can also write temporary files to /kaggle/temp/, but they won't be saved outside of the current session"
   ]
  },
  {
   "cell_type": "code",
   "execution_count": 2,
   "id": "f7dbe7d0",
   "metadata": {
    "execution": {
     "iopub.execute_input": "2022-01-25T14:35:37.946692Z",
     "iopub.status.busy": "2022-01-25T14:35:37.945649Z",
     "iopub.status.idle": "2022-01-25T14:35:37.989507Z",
     "shell.execute_reply": "2022-01-25T14:35:37.990276Z",
     "shell.execute_reply.started": "2022-01-25T13:59:44.909056Z"
    },
    "papermill": {
     "duration": 0.096696,
     "end_time": "2022-01-25T14:35:37.990495",
     "exception": false,
     "start_time": "2022-01-25T14:35:37.893799",
     "status": "completed"
    },
    "tags": []
   },
   "outputs": [],
   "source": [
    "train = pd.read_csv('/kaggle/input/titanic/train.csv')\n",
    "test = pd.read_csv('/kaggle/input/titanic/test.csv')\n",
    "gender_submission = pd.read_csv('/kaggle/input/titanic/gender_submission.csv')"
   ]
  },
  {
   "cell_type": "markdown",
   "id": "08e698bf",
   "metadata": {
    "papermill": {
     "duration": 0.047595,
     "end_time": "2022-01-25T14:35:38.085022",
     "exception": false,
     "start_time": "2022-01-25T14:35:38.037427",
     "status": "completed"
    },
    "tags": []
   },
   "source": [
    "# Data Exploration"
   ]
  },
  {
   "cell_type": "code",
   "execution_count": 3,
   "id": "87a1744f",
   "metadata": {
    "execution": {
     "iopub.execute_input": "2022-01-25T14:35:38.182186Z",
     "iopub.status.busy": "2022-01-25T14:35:38.181498Z",
     "iopub.status.idle": "2022-01-25T14:35:38.206886Z",
     "shell.execute_reply": "2022-01-25T14:35:38.207460Z",
     "shell.execute_reply.started": "2022-01-25T13:51:38.389669Z"
    },
    "papermill": {
     "duration": 0.075382,
     "end_time": "2022-01-25T14:35:38.207635",
     "exception": false,
     "start_time": "2022-01-25T14:35:38.132253",
     "status": "completed"
    },
    "tags": []
   },
   "outputs": [
    {
     "data": {
      "text/html": [
       "<div>\n",
       "<style scoped>\n",
       "    .dataframe tbody tr th:only-of-type {\n",
       "        vertical-align: middle;\n",
       "    }\n",
       "\n",
       "    .dataframe tbody tr th {\n",
       "        vertical-align: top;\n",
       "    }\n",
       "\n",
       "    .dataframe thead th {\n",
       "        text-align: right;\n",
       "    }\n",
       "</style>\n",
       "<table border=\"1\" class=\"dataframe\">\n",
       "  <thead>\n",
       "    <tr style=\"text-align: right;\">\n",
       "      <th></th>\n",
       "      <th>PassengerId</th>\n",
       "      <th>Survived</th>\n",
       "      <th>Pclass</th>\n",
       "      <th>Name</th>\n",
       "      <th>Sex</th>\n",
       "      <th>Age</th>\n",
       "      <th>SibSp</th>\n",
       "      <th>Parch</th>\n",
       "      <th>Ticket</th>\n",
       "      <th>Fare</th>\n",
       "      <th>Cabin</th>\n",
       "      <th>Embarked</th>\n",
       "    </tr>\n",
       "  </thead>\n",
       "  <tbody>\n",
       "    <tr>\n",
       "      <th>0</th>\n",
       "      <td>1</td>\n",
       "      <td>0</td>\n",
       "      <td>3</td>\n",
       "      <td>Braund, Mr. Owen Harris</td>\n",
       "      <td>male</td>\n",
       "      <td>22.0</td>\n",
       "      <td>1</td>\n",
       "      <td>0</td>\n",
       "      <td>A/5 21171</td>\n",
       "      <td>7.2500</td>\n",
       "      <td>NaN</td>\n",
       "      <td>S</td>\n",
       "    </tr>\n",
       "    <tr>\n",
       "      <th>1</th>\n",
       "      <td>2</td>\n",
       "      <td>1</td>\n",
       "      <td>1</td>\n",
       "      <td>Cumings, Mrs. John Bradley (Florence Briggs Th...</td>\n",
       "      <td>female</td>\n",
       "      <td>38.0</td>\n",
       "      <td>1</td>\n",
       "      <td>0</td>\n",
       "      <td>PC 17599</td>\n",
       "      <td>71.2833</td>\n",
       "      <td>C85</td>\n",
       "      <td>C</td>\n",
       "    </tr>\n",
       "    <tr>\n",
       "      <th>2</th>\n",
       "      <td>3</td>\n",
       "      <td>1</td>\n",
       "      <td>3</td>\n",
       "      <td>Heikkinen, Miss. Laina</td>\n",
       "      <td>female</td>\n",
       "      <td>26.0</td>\n",
       "      <td>0</td>\n",
       "      <td>0</td>\n",
       "      <td>STON/O2. 3101282</td>\n",
       "      <td>7.9250</td>\n",
       "      <td>NaN</td>\n",
       "      <td>S</td>\n",
       "    </tr>\n",
       "    <tr>\n",
       "      <th>3</th>\n",
       "      <td>4</td>\n",
       "      <td>1</td>\n",
       "      <td>1</td>\n",
       "      <td>Futrelle, Mrs. Jacques Heath (Lily May Peel)</td>\n",
       "      <td>female</td>\n",
       "      <td>35.0</td>\n",
       "      <td>1</td>\n",
       "      <td>0</td>\n",
       "      <td>113803</td>\n",
       "      <td>53.1000</td>\n",
       "      <td>C123</td>\n",
       "      <td>S</td>\n",
       "    </tr>\n",
       "    <tr>\n",
       "      <th>4</th>\n",
       "      <td>5</td>\n",
       "      <td>0</td>\n",
       "      <td>3</td>\n",
       "      <td>Allen, Mr. William Henry</td>\n",
       "      <td>male</td>\n",
       "      <td>35.0</td>\n",
       "      <td>0</td>\n",
       "      <td>0</td>\n",
       "      <td>373450</td>\n",
       "      <td>8.0500</td>\n",
       "      <td>NaN</td>\n",
       "      <td>S</td>\n",
       "    </tr>\n",
       "  </tbody>\n",
       "</table>\n",
       "</div>"
      ],
      "text/plain": [
       "   PassengerId  Survived  Pclass  \\\n",
       "0            1         0       3   \n",
       "1            2         1       1   \n",
       "2            3         1       3   \n",
       "3            4         1       1   \n",
       "4            5         0       3   \n",
       "\n",
       "                                                Name     Sex   Age  SibSp  \\\n",
       "0                            Braund, Mr. Owen Harris    male  22.0      1   \n",
       "1  Cumings, Mrs. John Bradley (Florence Briggs Th...  female  38.0      1   \n",
       "2                             Heikkinen, Miss. Laina  female  26.0      0   \n",
       "3       Futrelle, Mrs. Jacques Heath (Lily May Peel)  female  35.0      1   \n",
       "4                           Allen, Mr. William Henry    male  35.0      0   \n",
       "\n",
       "   Parch            Ticket     Fare Cabin Embarked  \n",
       "0      0         A/5 21171   7.2500   NaN        S  \n",
       "1      0          PC 17599  71.2833   C85        C  \n",
       "2      0  STON/O2. 3101282   7.9250   NaN        S  \n",
       "3      0            113803  53.1000  C123        S  \n",
       "4      0            373450   8.0500   NaN        S  "
      ]
     },
     "execution_count": 3,
     "metadata": {},
     "output_type": "execute_result"
    }
   ],
   "source": [
    "train.head()"
   ]
  },
  {
   "cell_type": "code",
   "execution_count": 4,
   "id": "4038ad1c",
   "metadata": {
    "execution": {
     "iopub.execute_input": "2022-01-25T14:35:38.306338Z",
     "iopub.status.busy": "2022-01-25T14:35:38.305674Z",
     "iopub.status.idle": "2022-01-25T14:35:38.330820Z",
     "shell.execute_reply": "2022-01-25T14:35:38.330043Z",
     "shell.execute_reply.started": "2022-01-25T13:51:41.100397Z"
    },
    "papermill": {
     "duration": 0.075931,
     "end_time": "2022-01-25T14:35:38.330975",
     "exception": false,
     "start_time": "2022-01-25T14:35:38.255044",
     "status": "completed"
    },
    "tags": []
   },
   "outputs": [
    {
     "name": "stdout",
     "output_type": "stream",
     "text": [
      "<class 'pandas.core.frame.DataFrame'>\n",
      "RangeIndex: 891 entries, 0 to 890\n",
      "Data columns (total 12 columns):\n",
      " #   Column       Non-Null Count  Dtype  \n",
      "---  ------       --------------  -----  \n",
      " 0   PassengerId  891 non-null    int64  \n",
      " 1   Survived     891 non-null    int64  \n",
      " 2   Pclass       891 non-null    int64  \n",
      " 3   Name         891 non-null    object \n",
      " 4   Sex          891 non-null    object \n",
      " 5   Age          714 non-null    float64\n",
      " 6   SibSp        891 non-null    int64  \n",
      " 7   Parch        891 non-null    int64  \n",
      " 8   Ticket       891 non-null    object \n",
      " 9   Fare         891 non-null    float64\n",
      " 10  Cabin        204 non-null    object \n",
      " 11  Embarked     889 non-null    object \n",
      "dtypes: float64(2), int64(5), object(5)\n",
      "memory usage: 83.7+ KB\n"
     ]
    }
   ],
   "source": [
    "train.info()"
   ]
  },
  {
   "cell_type": "markdown",
   "id": "735de294",
   "metadata": {
    "execution": {
     "iopub.execute_input": "2022-01-23T05:32:05.111023Z",
     "iopub.status.busy": "2022-01-23T05:32:05.110475Z",
     "iopub.status.idle": "2022-01-23T05:32:05.117995Z",
     "shell.execute_reply": "2022-01-23T05:32:05.117395Z",
     "shell.execute_reply.started": "2022-01-23T05:32:05.110991Z"
    },
    "papermill": {
     "duration": 0.048074,
     "end_time": "2022-01-25T14:35:38.429690",
     "exception": false,
     "start_time": "2022-01-25T14:35:38.381616",
     "status": "completed"
    },
    "tags": []
   },
   "source": [
    "The first one we will analyze is the train dataset. The train data set consists of the following columns:\n",
    "\n",
    "Survived => 0 : no / 1 : yes\n",
    "\n",
    "Pclass (Class Ticket) => 1 : 1st / 2 : 2nd / 3 : 3rd\n",
    "\n",
    "Name\n",
    "\n",
    "Sex => 0 : man / 1 : woman\n",
    "\n",
    "Age\n",
    "\n",
    "Sibsp (of siblings / spouses aboard the Titanic)\n",
    "\n",
    "Parch (of parents / children aboard the Titanic)\n",
    "\n",
    "Ticket (Ticket Number)\n",
    "\n",
    "Fare (Passenger Fare)\n",
    "\n",
    "Cabin (Kabin Number) \n",
    "\n",
    "Embarked (Port of Embarkation) => C : Cherbourg / Q = Queenstown / S = Southampton"
   ]
  },
  {
   "cell_type": "markdown",
   "id": "e25d965b",
   "metadata": {
    "execution": {
     "iopub.execute_input": "2022-01-23T05:32:05.11958Z",
     "iopub.status.busy": "2022-01-23T05:32:05.119345Z",
     "iopub.status.idle": "2022-01-23T05:32:05.754061Z",
     "shell.execute_reply": "2022-01-23T05:32:05.753399Z",
     "shell.execute_reply.started": "2022-01-23T05:32:05.119544Z"
    },
    "papermill": {
     "duration": 0.048107,
     "end_time": "2022-01-25T14:35:38.525439",
     "exception": false,
     "start_time": "2022-01-25T14:35:38.477332",
     "status": "completed"
    },
    "tags": []
   },
   "source": [
    "## Contionus Variable "
   ]
  },
  {
   "cell_type": "markdown",
   "id": "5cc5464f",
   "metadata": {
    "papermill": {
     "duration": 0.049006,
     "end_time": "2022-01-25T14:35:38.622380",
     "exception": false,
     "start_time": "2022-01-25T14:35:38.573374",
     "status": "completed"
    },
    "tags": []
   },
   "source": [
    "### Age\n",
    "\n",
    "Age between 15 - 20 years old are more likely to survive"
   ]
  },
  {
   "cell_type": "code",
   "execution_count": 5,
   "id": "e73df6ed",
   "metadata": {
    "execution": {
     "iopub.execute_input": "2022-01-25T14:35:38.728803Z",
     "iopub.status.busy": "2022-01-25T14:35:38.727706Z",
     "iopub.status.idle": "2022-01-25T14:35:39.532616Z",
     "shell.execute_reply": "2022-01-25T14:35:39.531667Z",
     "shell.execute_reply.started": "2022-01-25T14:20:40.470240Z"
    },
    "papermill": {
     "duration": 0.862749,
     "end_time": "2022-01-25T14:35:39.532775",
     "exception": false,
     "start_time": "2022-01-25T14:35:38.670026",
     "status": "completed"
    },
    "tags": []
   },
   "outputs": [
    {
     "name": "stderr",
     "output_type": "stream",
     "text": [
      "/opt/conda/lib/python3.7/site-packages/seaborn/distributions.py:2619: FutureWarning: `distplot` is a deprecated function and will be removed in a future version. Please adapt your code to use either `displot` (a figure-level function with similar flexibility) or `histplot` (an axes-level function for histograms).\n",
      "  warnings.warn(msg, FutureWarning)\n"
     ]
    },
    {
     "data": {
      "text/plain": [
       "Text(0.5, 1.0, 'Male')"
      ]
     },
     "execution_count": 5,
     "metadata": {},
     "output_type": "execute_result"
    },
    {
     "data": {
      "image/png": "[encoded data removed]",
      "text/plain": [
       "<Figure size 1152x576 with 2 Axes>"
      ]
     },
     "metadata": {
      "needs_background": "light"
     },
     "output_type": "display_data"
    }
   ],
   "source": [
    "train['Age'].fillna(value = round(np.mean(train['Age'])), inplace=True)\n",
    "fig, axes = plt.subplots(nrows=1, ncols=2,figsize=(16, 8))\n",
    "women = train[train['Sex']=='female']\n",
    "men = train[train['Sex']=='male']\n",
    "ax = sns.distplot(women[women.Survived == 1].Age, bins =18, label = 'Survived', ax=axes[0], kde=False, color='green')\n",
    "ax = sns.distplot(women[women.Survived == 0].Age, bins=40, label = 'Not Survived', ax = axes[0], kde =False, color=\"red\")\n",
    "ax.legend()\n",
    "ax.set_title('Female')\n",
    "ax1 = sns.distplot(men[men.Survived == 1].Age, bins = 18, label = 'Survived', ax = axes[1], kde = False, color = 'green')\n",
    "ax1 = sns.distplot(men[men.Survived == 0].Age, bins = 40, label = 'Not Survived', ax = axes[1], kde = False, color = 'red')\n",
    "ax1.legend()\n",
    "ax1.set_title('Male')"
   ]
  },
  {
   "cell_type": "markdown",
   "id": "f4868e15",
   "metadata": {
    "papermill": {
     "duration": 0.048576,
     "end_time": "2022-01-25T14:35:39.631860",
     "exception": false,
     "start_time": "2022-01-25T14:35:39.583284",
     "status": "completed"
    },
    "tags": []
   },
   "source": [
    "### Pclass\n",
    "You have a higher chance of surviving if you have a first class ticket than having a second or thir.d"
   ]
  },
  {
   "cell_type": "code",
   "execution_count": 6,
   "id": "2efcb22a",
   "metadata": {
    "execution": {
     "iopub.execute_input": "2022-01-25T14:35:39.733635Z",
     "iopub.status.busy": "2022-01-25T14:35:39.732858Z",
     "iopub.status.idle": "2022-01-25T14:35:40.033986Z",
     "shell.execute_reply": "2022-01-25T14:35:40.034499Z",
     "shell.execute_reply.started": "2022-01-25T14:24:16.660534Z"
    },
    "papermill": {
     "duration": 0.35381,
     "end_time": "2022-01-25T14:35:40.034690",
     "exception": false,
     "start_time": "2022-01-25T14:35:39.680880",
     "status": "completed"
    },
    "tags": []
   },
   "outputs": [
    {
     "data": {
      "text/plain": [
       "<AxesSubplot:xlabel='Pclass', ylabel='Survived'>"
      ]
     },
     "execution_count": 6,
     "metadata": {},
     "output_type": "execute_result"
    },
    {
     "data": {
      "image/png": "[encoded data removed]",
      "text/plain": [
       "<Figure size 432x288 with 1 Axes>"
      ]
     },
     "metadata": {
      "needs_background": "light"
     },
     "output_type": "display_data"
    }
   ],
   "source": [
    "sns.barplot(data=train, x='Pclass', y='Survived')"
   ]
  },
  {
   "cell_type": "markdown",
   "id": "9cc6bbd8",
   "metadata": {
    "papermill": {
     "duration": 0.050263,
     "end_time": "2022-01-25T14:35:40.135111",
     "exception": false,
     "start_time": "2022-01-25T14:35:40.084848",
     "status": "completed"
    },
    "tags": []
   },
   "source": [
    "### Relatives\n",
    "You are more likely to survive if you are travels with 1 to 3 people and if you have 0 or more than three you have a less chance."
   ]
  },
  {
   "cell_type": "code",
   "execution_count": 7,
   "id": "02aacfd5",
   "metadata": {
    "execution": {
     "iopub.execute_input": "2022-01-25T14:35:40.246210Z",
     "iopub.status.busy": "2022-01-25T14:35:40.245450Z",
     "iopub.status.idle": "2022-01-25T14:35:40.855198Z",
     "shell.execute_reply": "2022-01-25T14:35:40.855767Z",
     "shell.execute_reply.started": "2022-01-25T14:31:05.906581Z"
    },
    "papermill": {
     "duration": 0.670335,
     "end_time": "2022-01-25T14:35:40.855964",
     "exception": false,
     "start_time": "2022-01-25T14:35:40.185629",
     "status": "completed"
    },
    "tags": []
   },
   "outputs": [
    {
     "name": "stderr",
     "output_type": "stream",
     "text": [
      "/opt/conda/lib/python3.7/site-packages/seaborn/categorical.py:3717: UserWarning: The `factorplot` function has been renamed to `catplot`. The original name will be removed in a future release. Please update your code. Note that the default `kind` in `factorplot` (`'point'`) has changed `'strip'` in `catplot`.\n",
      "  warnings.warn(msg)\n"
     ]
    },
    {
     "data": {
      "text/plain": [
       "<seaborn.axisgrid.FacetGrid at 0x7fa403c87e50>"
      ]
     },
     "execution_count": 7,
     "metadata": {},
     "output_type": "execute_result"
    },
    {
     "data": {
      "image/png": "[encoded data removed]",
      "text/plain": [
       "<Figure size 900x360 with 1 Axes>"
      ]
     },
     "metadata": {
      "needs_background": "light"
     },
     "output_type": "display_data"
    }
   ],
   "source": [
    "train['relatives'] = train['SibSp'] + train['Parch']\n",
    "train.loc[train['relatives'] > 0, 'travelled_alone'] = 'No'\n",
    "train.loc[train['relatives'] == 0, 'travelled_alone'] = 'Yes'\n",
    "sns.factorplot(data = train, x ='relatives', y='Survived', aspect = 2.5)"
   ]
  },
  {
   "cell_type": "code",
   "execution_count": 8,
   "id": "993c70cc",
   "metadata": {
    "execution": {
     "iopub.execute_input": "2022-01-25T14:35:40.964253Z",
     "iopub.status.busy": "2022-01-25T14:35:40.963521Z",
     "iopub.status.idle": "2022-01-25T14:35:40.968356Z",
     "shell.execute_reply": "2022-01-25T14:35:40.968901Z",
     "shell.execute_reply.started": "2022-01-25T01:15:08.666923Z"
    },
    "papermill": {
     "duration": 0.060756,
     "end_time": "2022-01-25T14:35:40.969087",
     "exception": false,
     "start_time": "2022-01-25T14:35:40.908331",
     "status": "completed"
    },
    "tags": []
   },
   "outputs": [],
   "source": [
    "cont_var = train[['SibSp', 'Parch', 'Fare']]"
   ]
  },
  {
   "cell_type": "markdown",
   "id": "519d8a51",
   "metadata": {
    "papermill": {
     "duration": 0.052528,
     "end_time": "2022-01-25T14:35:41.073719",
     "exception": false,
     "start_time": "2022-01-25T14:35:41.021191",
     "status": "completed"
    },
    "tags": []
   },
   "source": [
    "## Discrete Variable"
   ]
  },
  {
   "cell_type": "markdown",
   "id": "963288db",
   "metadata": {
    "papermill": {
     "duration": 0.051438,
     "end_time": "2022-01-25T14:35:41.177341",
     "exception": false,
     "start_time": "2022-01-25T14:35:41.125903",
     "status": "completed"
    },
    "tags": []
   },
   "source": [
    "### Sex\n",
    "\n",
    "Women and Children were the first to board the titanic which means they are more likely to survive than man."
   ]
  },
  {
   "cell_type": "code",
   "execution_count": 9,
   "id": "df97f839",
   "metadata": {
    "execution": {
     "iopub.execute_input": "2022-01-25T14:35:41.285366Z",
     "iopub.status.busy": "2022-01-25T14:35:41.284659Z",
     "iopub.status.idle": "2022-01-25T14:35:41.292110Z",
     "shell.execute_reply": "2022-01-25T14:35:41.291565Z",
     "shell.execute_reply.started": "2022-01-25T13:57:41.088304Z"
    },
    "papermill": {
     "duration": 0.06252,
     "end_time": "2022-01-25T14:35:41.292267",
     "exception": false,
     "start_time": "2022-01-25T14:35:41.229747",
     "status": "completed"
    },
    "tags": []
   },
   "outputs": [
    {
     "name": "stdout",
     "output_type": "stream",
     "text": [
      "% of women who survived : 0.7420382165605095\n"
     ]
    }
   ],
   "source": [
    "women = train.loc[train.Sex == 'female']['Survived']\n",
    "rate_women = sum(women)/len(women)\n",
    "print('% of women who survived :', rate_women )"
   ]
  },
  {
   "cell_type": "code",
   "execution_count": 10,
   "id": "4953358a",
   "metadata": {
    "execution": {
     "iopub.execute_input": "2022-01-25T14:35:41.401233Z",
     "iopub.status.busy": "2022-01-25T14:35:41.400523Z",
     "iopub.status.idle": "2022-01-25T14:35:41.408354Z",
     "shell.execute_reply": "2022-01-25T14:35:41.409071Z",
     "shell.execute_reply.started": "2022-01-25T13:59:26.211578Z"
    },
    "papermill": {
     "duration": 0.063967,
     "end_time": "2022-01-25T14:35:41.409278",
     "exception": false,
     "start_time": "2022-01-25T14:35:41.345311",
     "status": "completed"
    },
    "tags": []
   },
   "outputs": [
    {
     "name": "stdout",
     "output_type": "stream",
     "text": [
      "% of women who survived : 0.18890814558058924\n"
     ]
    }
   ],
   "source": [
    "men = train.loc[train.Sex == 'male']['Survived']\n",
    "rate_men = sum(men) / len(men)\n",
    "print('% of women who survived :', rate_men)"
   ]
  },
  {
   "cell_type": "markdown",
   "id": "0b41e675",
   "metadata": {
    "papermill": {
     "duration": 0.052504,
     "end_time": "2022-01-25T14:35:41.516956",
     "exception": false,
     "start_time": "2022-01-25T14:35:41.464452",
     "status": "completed"
    },
    "tags": []
   },
   "source": [
    "### Embarked\n",
    "Women will survive more if they embarked from port ‘Southampton’ or ‘ Queenstown’. While men will survive more from the port 'Cherbourg'. Passengers from port ‘Southampton’ have a low survival rate of 34%, while those from the port ‘Cherbourg’ have a survival rate of 55%. Over 72% of the passengers embarked from the port 'Southampton’, 18% from the port ‘Cherbourg’ and the rest from the port ‘Queenstown’."
   ]
  },
  {
   "cell_type": "code",
   "execution_count": 11,
   "id": "2285f96b",
   "metadata": {
    "execution": {
     "iopub.execute_input": "2022-01-25T14:35:41.631419Z",
     "iopub.status.busy": "2022-01-25T14:35:41.630654Z",
     "iopub.status.idle": "2022-01-25T14:35:43.126311Z",
     "shell.execute_reply": "2022-01-25T14:35:43.126908Z",
     "shell.execute_reply.started": "2022-01-25T14:05:41.925029Z"
    },
    "papermill": {
     "duration": 1.556784,
     "end_time": "2022-01-25T14:35:43.127088",
     "exception": false,
     "start_time": "2022-01-25T14:35:41.570304",
     "status": "completed"
    },
    "tags": []
   },
   "outputs": [
    {
     "name": "stderr",
     "output_type": "stream",
     "text": [
      "/opt/conda/lib/python3.7/site-packages/seaborn/axisgrid.py:337: UserWarning: The `size` parameter has been renamed to `height`; please update your code.\n",
      "  warnings.warn(msg, UserWarning)\n",
      "/opt/conda/lib/python3.7/site-packages/seaborn/axisgrid.py:670: UserWarning: Using the pointplot function without specifying `order` is likely to produce an incorrect plot.\n",
      "  warnings.warn(warning)\n",
      "/opt/conda/lib/python3.7/site-packages/seaborn/axisgrid.py:675: UserWarning: Using the pointplot function without specifying `hue_order` is likely to produce an incorrect plot.\n",
      "  warnings.warn(warning)\n"
     ]
    },
    {
     "data": {
      "text/plain": [
       "<seaborn.axisgrid.FacetGrid at 0x7fa3fb5cd690>"
      ]
     },
     "execution_count": 11,
     "metadata": {},
     "output_type": "execute_result"
    },
    {
     "data": {
      "image/png": "[encoded data removed]",
      "text/plain": [
       "<Figure size 588.9x972 with 3 Axes>"
      ]
     },
     "metadata": {
      "needs_background": "light"
     },
     "output_type": "display_data"
    }
   ],
   "source": [
    "plot = sns.FacetGrid(train, row='Embarked', size=4.5, aspect=1.6)\n",
    "plot.map(sns.pointplot, 'Pclass', 'Survived', 'Sex')\n",
    "plot.add_legend()"
   ]
  },
  {
   "cell_type": "code",
   "execution_count": 12,
   "id": "18776768",
   "metadata": {
    "execution": {
     "iopub.execute_input": "2022-01-25T14:35:43.243471Z",
     "iopub.status.busy": "2022-01-25T14:35:43.242739Z",
     "iopub.status.idle": "2022-01-25T14:35:43.454584Z",
     "shell.execute_reply": "2022-01-25T14:35:43.454044Z",
     "shell.execute_reply.started": "2022-01-25T14:07:34.482367Z"
    },
    "papermill": {
     "duration": 0.271106,
     "end_time": "2022-01-25T14:35:43.454735",
     "exception": false,
     "start_time": "2022-01-25T14:35:43.183629",
     "status": "completed"
    },
    "tags": []
   },
   "outputs": [
    {
     "data": {
      "text/plain": [
       "<AxesSubplot:xlabel='Survived', ylabel='count'>"
      ]
     },
     "execution_count": 12,
     "metadata": {},
     "output_type": "execute_result"
    },
    {
     "data": {
      "image/png": "[encoded data removed]",
      "text/plain": [
       "<Figure size 432x288 with 1 Axes>"
      ]
     },
     "metadata": {},
     "output_type": "display_data"
    }
   ],
   "source": [
    "sns.set(style='darkgrid')\n",
    "sns.countplot(data=train, x='Survived', hue='Embarked', palette='Set2')"
   ]
  },
  {
   "cell_type": "code",
   "execution_count": 13,
   "id": "651c77d1",
   "metadata": {
    "execution": {
     "iopub.execute_input": "2022-01-25T14:35:43.574206Z",
     "iopub.status.busy": "2022-01-25T14:35:43.573508Z",
     "iopub.status.idle": "2022-01-25T14:35:43.577347Z",
     "shell.execute_reply": "2022-01-25T14:35:43.576793Z",
     "shell.execute_reply.started": "2022-01-25T13:51:59.359469Z"
    },
    "papermill": {
     "duration": 0.065904,
     "end_time": "2022-01-25T14:35:43.577510",
     "exception": false,
     "start_time": "2022-01-25T14:35:43.511606",
     "status": "completed"
    },
    "tags": []
   },
   "outputs": [],
   "source": [
    "disc_var = train[['Ticket', 'Cabin']]"
   ]
  },
  {
   "cell_type": "markdown",
   "id": "2bf4cd6e",
   "metadata": {
    "execution": {
     "iopub.execute_input": "2022-01-23T05:32:17.489903Z",
     "iopub.status.busy": "2022-01-23T05:32:17.48913Z",
     "iopub.status.idle": "2022-01-23T05:32:17.503653Z",
     "shell.execute_reply": "2022-01-23T05:32:17.502648Z",
     "shell.execute_reply.started": "2022-01-23T05:32:17.489864Z"
    },
    "papermill": {
     "duration": 0.059019,
     "end_time": "2022-01-25T14:35:43.693050",
     "exception": false,
     "start_time": "2022-01-25T14:35:43.634031",
     "status": "completed"
    },
    "tags": []
   },
   "source": [
    "# Feature Engineering\n",
    "1) Cabin - simplify cabins (evaluated if cabin letter (cabin_adv) or the purchase of tickets across multiple cabins (cabin_multiple) impacted survival)\n",
    "\n",
    "2) Tickets - Do different ticket types impact survival rates?\n",
    "\n",
    "3) Does a person's title realte to survival rates?"
   ]
  },
  {
   "cell_type": "markdown",
   "id": "6a7d7cef",
   "metadata": {
    "papermill": {
     "duration": 0.05672,
     "end_time": "2022-01-25T14:35:43.806345",
     "exception": false,
     "start_time": "2022-01-25T14:35:43.749625",
     "status": "completed"
    },
    "tags": []
   },
   "source": [
    "### Cabin"
   ]
  },
  {
   "cell_type": "code",
   "execution_count": 14,
   "id": "15ee95d7",
   "metadata": {
    "execution": {
     "iopub.execute_input": "2022-01-25T14:35:43.923898Z",
     "iopub.status.busy": "2022-01-25T14:35:43.923220Z",
     "iopub.status.idle": "2022-01-25T14:35:43.933105Z",
     "shell.execute_reply": "2022-01-25T14:35:43.933634Z",
     "shell.execute_reply.started": "2022-01-25T01:15:21.781834Z"
    },
    "papermill": {
     "duration": 0.071145,
     "end_time": "2022-01-25T14:35:43.933807",
     "exception": false,
     "start_time": "2022-01-25T14:35:43.862662",
     "status": "completed"
    },
    "tags": []
   },
   "outputs": [
    {
     "data": {
      "text/plain": [
       "0    687\n",
       "1    180\n",
       "2     16\n",
       "3      6\n",
       "4      2\n",
       "Name: cabin_multiple, dtype: int64"
      ]
     },
     "execution_count": 14,
     "metadata": {},
     "output_type": "execute_result"
    }
   ],
   "source": [
    "train['cabin_multiple'] = train.Cabin.apply(lambda x: 0 if pd.isna(x) else len(x.split(' ')))\n",
    "train['cabin_multiple'].value_counts()"
   ]
  },
  {
   "cell_type": "code",
   "execution_count": 15,
   "id": "d96acff2",
   "metadata": {
    "execution": {
     "iopub.execute_input": "2022-01-25T14:35:44.052195Z",
     "iopub.status.busy": "2022-01-25T14:35:44.051487Z",
     "iopub.status.idle": "2022-01-25T14:35:44.059632Z",
     "shell.execute_reply": "2022-01-25T14:35:44.060189Z",
     "shell.execute_reply.started": "2022-01-25T01:15:21.794294Z"
    },
    "papermill": {
     "duration": 0.069119,
     "end_time": "2022-01-25T14:35:44.060367",
     "exception": false,
     "start_time": "2022-01-25T14:35:43.991248",
     "status": "completed"
    },
    "tags": []
   },
   "outputs": [
    {
     "name": "stdout",
     "output_type": "stream",
     "text": [
      "n    687\n",
      "C     59\n",
      "B     47\n",
      "D     33\n",
      "E     32\n",
      "A     15\n",
      "F     13\n",
      "G      4\n",
      "T      1\n",
      "Name: cabin_adv, dtype: int64\n"
     ]
    }
   ],
   "source": [
    "train['cabin_adv'] = train.Cabin.apply(lambda x: str(x)[0])\n",
    "print(train.cabin_adv.value_counts())"
   ]
  },
  {
   "cell_type": "code",
   "execution_count": 16,
   "id": "63eb1234",
   "metadata": {
    "execution": {
     "iopub.execute_input": "2022-01-25T14:35:44.178594Z",
     "iopub.status.busy": "2022-01-25T14:35:44.177931Z",
     "iopub.status.idle": "2022-01-25T14:35:44.211595Z",
     "shell.execute_reply": "2022-01-25T14:35:44.210906Z",
     "shell.execute_reply.started": "2022-01-25T01:15:21.812732Z"
    },
    "papermill": {
     "duration": 0.09342,
     "end_time": "2022-01-25T14:35:44.211760",
     "exception": false,
     "start_time": "2022-01-25T14:35:44.118340",
     "status": "completed"
    },
    "tags": []
   },
   "outputs": [
    {
     "data": {
      "text/html": [
       "<div>\n",
       "<style scoped>\n",
       "    .dataframe tbody tr th:only-of-type {\n",
       "        vertical-align: middle;\n",
       "    }\n",
       "\n",
       "    .dataframe tbody tr th {\n",
       "        vertical-align: top;\n",
       "    }\n",
       "\n",
       "    .dataframe thead th {\n",
       "        text-align: right;\n",
       "    }\n",
       "</style>\n",
       "<table border=\"1\" class=\"dataframe\">\n",
       "  <thead>\n",
       "    <tr style=\"text-align: right;\">\n",
       "      <th>cabin_adv</th>\n",
       "      <th>A</th>\n",
       "      <th>B</th>\n",
       "      <th>C</th>\n",
       "      <th>D</th>\n",
       "      <th>E</th>\n",
       "      <th>F</th>\n",
       "      <th>G</th>\n",
       "      <th>T</th>\n",
       "      <th>n</th>\n",
       "    </tr>\n",
       "    <tr>\n",
       "      <th>Survived</th>\n",
       "      <th></th>\n",
       "      <th></th>\n",
       "      <th></th>\n",
       "      <th></th>\n",
       "      <th></th>\n",
       "      <th></th>\n",
       "      <th></th>\n",
       "      <th></th>\n",
       "      <th></th>\n",
       "    </tr>\n",
       "  </thead>\n",
       "  <tbody>\n",
       "    <tr>\n",
       "      <th>0</th>\n",
       "      <td>8.0</td>\n",
       "      <td>12.0</td>\n",
       "      <td>24.0</td>\n",
       "      <td>8.0</td>\n",
       "      <td>8.0</td>\n",
       "      <td>5.0</td>\n",
       "      <td>2.0</td>\n",
       "      <td>1.0</td>\n",
       "      <td>481.0</td>\n",
       "    </tr>\n",
       "    <tr>\n",
       "      <th>1</th>\n",
       "      <td>7.0</td>\n",
       "      <td>35.0</td>\n",
       "      <td>35.0</td>\n",
       "      <td>25.0</td>\n",
       "      <td>24.0</td>\n",
       "      <td>8.0</td>\n",
       "      <td>2.0</td>\n",
       "      <td>NaN</td>\n",
       "      <td>206.0</td>\n",
       "    </tr>\n",
       "  </tbody>\n",
       "</table>\n",
       "</div>"
      ],
      "text/plain": [
       "cabin_adv    A     B     C     D     E    F    G    T      n\n",
       "Survived                                                    \n",
       "0          8.0  12.0  24.0   8.0   8.0  5.0  2.0  1.0  481.0\n",
       "1          7.0  35.0  35.0  25.0  24.0  8.0  2.0  NaN  206.0"
      ]
     },
     "execution_count": 16,
     "metadata": {},
     "output_type": "execute_result"
    }
   ],
   "source": [
    "pd.pivot_table(train, index='Survived', columns='cabin_adv', values='Ticket', aggfunc='count')"
   ]
  },
  {
   "cell_type": "markdown",
   "id": "5adfb5ad",
   "metadata": {
    "execution": {
     "iopub.execute_input": "2022-01-23T05:32:17.546266Z",
     "iopub.status.busy": "2022-01-23T05:32:17.545834Z",
     "iopub.status.idle": "2022-01-23T05:32:17.558586Z",
     "shell.execute_reply": "2022-01-23T05:32:17.55766Z",
     "shell.execute_reply.started": "2022-01-23T05:32:17.546234Z"
    },
    "papermill": {
     "duration": 0.058462,
     "end_time": "2022-01-25T14:35:44.329729",
     "exception": false,
     "start_time": "2022-01-25T14:35:44.271267",
     "status": "completed"
    },
    "tags": []
   },
   "source": [
    "### Ticket"
   ]
  },
  {
   "cell_type": "code",
   "execution_count": 17,
   "id": "1be4e5af",
   "metadata": {
    "execution": {
     "iopub.execute_input": "2022-01-25T14:35:44.448305Z",
     "iopub.status.busy": "2022-01-25T14:35:44.447570Z",
     "iopub.status.idle": "2022-01-25T14:35:44.463747Z",
     "shell.execute_reply": "2022-01-25T14:35:44.464312Z",
     "shell.execute_reply.started": "2022-01-25T01:15:21.842851Z"
    },
    "papermill": {
     "duration": 0.077426,
     "end_time": "2022-01-25T14:35:44.464505",
     "exception": false,
     "start_time": "2022-01-25T14:35:44.387079",
     "status": "completed"
    },
    "tags": []
   },
   "outputs": [
    {
     "data": {
      "text/plain": [
       "347082                7\n",
       "CA. 2343              7\n",
       "1601                  7\n",
       "3101295               6\n",
       "CA 2144               6\n",
       "347088                6\n",
       "S.O.C. 14879          5\n",
       "382652                5\n",
       "LINE                  4\n",
       "PC 17757              4\n",
       "17421                 4\n",
       "349909                4\n",
       "113760                4\n",
       "4133                  4\n",
       "113781                4\n",
       "W./C. 6608            4\n",
       "2666                  4\n",
       "19950                 4\n",
       "347077                4\n",
       "C.A. 31921            3\n",
       "PC 17572              3\n",
       "C.A. 34651            3\n",
       "363291                3\n",
       "F.C.C. 13529          3\n",
       "345773                3\n",
       "248727                3\n",
       "24160                 3\n",
       "29106                 3\n",
       "SC/Paris 2123         3\n",
       "35273                 3\n",
       "371110                3\n",
       "230080                3\n",
       "PC 17760              3\n",
       "239853                3\n",
       "PC 17582              3\n",
       "347742                3\n",
       "110152                3\n",
       "13502                 3\n",
       "110413                3\n",
       "PC 17755              3\n",
       "PC 17558              2\n",
       "237736                2\n",
       "17474                 2\n",
       "PC 17758              2\n",
       "PP 9549               2\n",
       "S.O./P.P. 3           2\n",
       "P/PP 3381             2\n",
       "PC 17485              2\n",
       "2668                  2\n",
       "2627                  2\n",
       "PC 17604              2\n",
       "2653                  2\n",
       "2665                  2\n",
       "113798                2\n",
       "31027                 2\n",
       "2908                  2\n",
       "W./C. 6607            2\n",
       "WE/P 5735             2\n",
       "35281                 2\n",
       "113789                2\n",
       "244367                2\n",
       "231919                2\n",
       "110465                2\n",
       "PC 17477              2\n",
       "2699                  2\n",
       "367226                2\n",
       "113806                2\n",
       "230136                2\n",
       "111361                2\n",
       "113505                2\n",
       "113803                2\n",
       "370365                2\n",
       "364849                2\n",
       "358585                2\n",
       "250644                2\n",
       "C.A. 37671            2\n",
       "250647                2\n",
       "16966                 2\n",
       "36928                 2\n",
       "113776                2\n",
       "392096                2\n",
       "C.A. 33112            2\n",
       "A/4 48871             2\n",
       "STON/O2. 3101279      2\n",
       "2691                  2\n",
       "2678                  2\n",
       "PC 17593              2\n",
       "7534                  2\n",
       "PC 17608              2\n",
       "11767                 2\n",
       "347054                2\n",
       "243847                2\n",
       "PC 17761              2\n",
       "28403                 2\n",
       "244252                2\n",
       "11668                 2\n",
       "2659                  2\n",
       "2661                  2\n",
       "C.A. 2673             2\n",
       "370129                2\n",
       "36973                 2\n",
       "113572                2\n",
       "13507                 2\n",
       "A/5. 3336             2\n",
       "17453                 2\n",
       "19928                 2\n",
       "347080                2\n",
       "367230                2\n",
       "54636                 2\n",
       "250655                2\n",
       "PC 17569              2\n",
       "26360                 2\n",
       "376564                2\n",
       "11967                 2\n",
       "19877                 2\n",
       "220845                2\n",
       "PC 17611              2\n",
       "C.A. 2315             2\n",
       "36947                 2\n",
       "11751                 2\n",
       "230433                2\n",
       "345764                2\n",
       "2651                  2\n",
       "239865                2\n",
       "19943                 2\n",
       "3101278               2\n",
       "250649                2\n",
       "29750                 2\n",
       "364516                2\n",
       "248738                2\n",
       "12749                 2\n",
       "19996                 2\n",
       "S.C./PARIS 2079       2\n",
       "349237                2\n",
       "STON/O 2. 3101273     1\n",
       "349224                1\n",
       "A./5. 3235            1\n",
       "14973                 1\n",
       "SC/AH 29037           1\n",
       "219533                1\n",
       "A/5 3902              1\n",
       "364848                1\n",
       "349214                1\n",
       "36963                 1\n",
       "31028                 1\n",
       "349910                1\n",
       "349246                1\n",
       "347743                1\n",
       "113804                1\n",
       "364511                1\n",
       "SOTON/O.Q. 3101305    1\n",
       "364512                1\n",
       "11753                 1\n",
       "334912                1\n",
       "113796                1\n",
       "111426                1\n",
       "27042                 1\n",
       "350029                1\n",
       "13214                 1\n",
       "2664                  1\n",
       "112052                1\n",
       "370377                1\n",
       "A/5 21171             1\n",
       "13567                 1\n",
       "PC 17473              1\n",
       "364846                1\n",
       "330909                1\n",
       "4135                  1\n",
       "111427                1\n",
       "C 4001                1\n",
       "382651                1\n",
       "SOTON/OQ 3101316      1\n",
       "PC 17603              1\n",
       "350035                1\n",
       "349209                1\n",
       "36967                 1\n",
       "C.A. 34260            1\n",
       "226875                1\n",
       "349242                1\n",
       "349252                1\n",
       "2624                  1\n",
       "315086                1\n",
       "C.A. 6212             1\n",
       "237565                1\n",
       "239854                1\n",
       "323592                1\n",
       "315089                1\n",
       "SC/AH Basle 541       1\n",
       "7553                  1\n",
       "3460                  1\n",
       "350060                1\n",
       "3101298               1\n",
       "A/5 3594              1\n",
       "A/4 45380             1\n",
       "4134                  1\n",
       "11771                 1\n",
       "A.5. 18509            1\n",
       "65304                 1\n",
       "SOTON/OQ 3101317      1\n",
       "113787                1\n",
       "PC 17609              1\n",
       "2700                  1\n",
       "367232                1\n",
       "W./C. 14258           1\n",
       "PC 17474              1\n",
       "SOTON/OQ 392082       1\n",
       "SOTON/O.Q. 392087     1\n",
       "349205                1\n",
       "2686                  1\n",
       "350417                1\n",
       "S.W./PP 752           1\n",
       "11769                 1\n",
       "14312                 1\n",
       "PC 17483              1\n",
       "A/4. 20589            1\n",
       "243880                1\n",
       "2689                  1\n",
       "STON/O 2. 3101286     1\n",
       "237789                1\n",
       "13049                 1\n",
       "3411                  1\n",
       "218629                1\n",
       "349251                1\n",
       "372622                1\n",
       "345572                1\n",
       "3101296               1\n",
       "29104                 1\n",
       "2641                  1\n",
       "2690                  1\n",
       "315084                1\n",
       "113050                1\n",
       "364498                1\n",
       "13568                 1\n",
       "693                   1\n",
       "SC/PARIS 2146         1\n",
       "244358                1\n",
       "330979                1\n",
       "2620                  1\n",
       "347085                1\n",
       "11755                 1\n",
       "113807                1\n",
       "342826                1\n",
       "237668                1\n",
       "3474                  1\n",
       "2685                  1\n",
       "2625                  1\n",
       "347089                1\n",
       "347063                1\n",
       "112050                1\n",
       "347087                1\n",
       "248723                1\n",
       "28206                 1\n",
       "2671                  1\n",
       "364499                1\n",
       "112058                1\n",
       "STON/O2. 3101290      1\n",
       "C 7075                1\n",
       "315098                1\n",
       "19972                 1\n",
       "368323                1\n",
       "349244                1\n",
       "17465                 1\n",
       "28213                 1\n",
       "349203                1\n",
       "8471                  1\n",
       "345781                1\n",
       "350047                1\n",
       "2674                  1\n",
       "29105                 1\n",
       "347078                1\n",
       "383121                1\n",
       "36865                 1\n",
       "2687                  1\n",
       "113501                1\n",
       "SOTON/O.Q. 3101312    1\n",
       "374887                1\n",
       "3101265               1\n",
       "12460                 1\n",
       "PC 17600              1\n",
       "367228                1\n",
       "347468                1\n",
       "STON/O 2. 3101292     1\n",
       "349212                1\n",
       "SC/PARIS 2149         1\n",
       "PC 17590              1\n",
       "345777                1\n",
       "349248                1\n",
       "695                   1\n",
       "345765                1\n",
       "2667                  1\n",
       "349217                1\n",
       "2223                  1\n",
       "349257                1\n",
       "7552                  1\n",
       "C.A./SOTON 34068      1\n",
       "SOTON/OQ 392076       1\n",
       "211536                1\n",
       "112053                1\n",
       "111369                1\n",
       "236852                1\n",
       "233866                1\n",
       "17466                 1\n",
       "28134                 1\n",
       "PC 17756              1\n",
       "315097                1\n",
       "392092                1\n",
       "11774                 1\n",
       "SOTON/O2 3101287      1\n",
       "2683                  1\n",
       "315090                1\n",
       "C.A. 5547             1\n",
       "349213                1\n",
       "347060                1\n",
       "PC 17592              1\n",
       "392091                1\n",
       "113055                1\n",
       "2629                  1\n",
       "350026                1\n",
       "364850                1\n",
       "112379                1\n",
       "347074                1\n",
       "6563                  1\n",
       "C.A. 24580            1\n",
       "244270                1\n",
       "239856                1\n",
       "349912                1\n",
       "113792                1\n",
       "4138                  1\n",
       "330935                1\n",
       "349228                1\n",
       "2663                  1\n",
       "350036                1\n",
       "349256                1\n",
       "2672                  1\n",
       "113800                1\n",
       "248731                1\n",
       "363592                1\n",
       "35852                 1\n",
       "F.C. 12750            1\n",
       "A/5 3536              1\n",
       "312993                1\n",
       "234686                1\n",
       "350050                1\n",
       "349231                1\n",
       "13213                 1\n",
       "S.O./P.P. 751         1\n",
       "CA. 2314              1\n",
       "349221                1\n",
       "8475                  1\n",
       "330919                1\n",
       "365226                1\n",
       "349223                1\n",
       "29751                 1\n",
       "2623                  1\n",
       "5727                  1\n",
       "349210                1\n",
       "STON/O 2. 3101285     1\n",
       "348121                1\n",
       "PC 17475              1\n",
       "36864                 1\n",
       "28425                 1\n",
       "349201                1\n",
       "349218                1\n",
       "16988                 1\n",
       "376566                1\n",
       "STON/O 2. 3101288     1\n",
       "250648                1\n",
       "113773                1\n",
       "335097                1\n",
       "29103                 1\n",
       "345780                1\n",
       "349204                1\n",
       "350042                1\n",
       "29108                 1\n",
       "363294                1\n",
       "SOTON/O2 3101272      1\n",
       "233639                1\n",
       "239855                1\n",
       "350025                1\n",
       "STON/O2. 3101271      1\n",
       "223596                1\n",
       "PC 17476              1\n",
       "PC 17482              1\n",
       "113028                1\n",
       "7545                  1\n",
       "348124                1\n",
       "34218                 1\n",
       "36568                 1\n",
       "347062                1\n",
       "350048                1\n",
       "12233                 1\n",
       "250643                1\n",
       "315094                1\n",
       "36866                 1\n",
       "236853                1\n",
       "36209                 1\n",
       "244278                1\n",
       "SOTON/O.Q. 3101306    1\n",
       "SOTON/OQ 392090       1\n",
       "S.O.P. 1166           1\n",
       "A.5. 11206            1\n",
       "A/5. 851              1\n",
       "Fa 265302             1\n",
       "PC 17597              1\n",
       "35851                 1\n",
       "315037                1\n",
       "350043                1\n",
       "371362                1\n",
       "C.A. 33595            1\n",
       "347068                1\n",
       "315093                1\n",
       "PC 17318              1\n",
       "111240                1\n",
       "244310                1\n",
       "231945                1\n",
       "17764                 1\n",
       "349241                1\n",
       "370369                1\n",
       "A4. 54510             1\n",
       "27267                 1\n",
       "370372                1\n",
       "C 17369               1\n",
       "347061                1\n",
       "SOTON/O.Q. 3101307    1\n",
       "365222                1\n",
       "A/5. 3337             1\n",
       "228414                1\n",
       "C.A. 29178            1\n",
       "SC/PARIS 2133         1\n",
       "11752                 1\n",
       "347081                1\n",
       "STON/O 2. 3101280     1\n",
       "350404                1\n",
       "A/S 2816              1\n",
       "367229                1\n",
       "367231                1\n",
       "112277                1\n",
       "SOTON/O.Q. 3101311    1\n",
       "F.C.C. 13528          1\n",
       "A/5 21174             1\n",
       "250646                1\n",
       "STON/O2. 3101283      1\n",
       "2628                  1\n",
       "11813                 1\n",
       "W/C 14208             1\n",
       "SOTON/OQ 392089       1\n",
       "220367                1\n",
       "21440                 1\n",
       "349234                1\n",
       "A/5 3540              1\n",
       "3101264               1\n",
       "PC 17595              1\n",
       "234604                1\n",
       "250653                1\n",
       "SC/PARIS 2131         1\n",
       "315153                1\n",
       "113767                1\n",
       "111428                1\n",
       "349247                1\n",
       "28424                 1\n",
       "345770                1\n",
       "350046                1\n",
       "PC 17610              1\n",
       "368703                1\n",
       "4579                  1\n",
       "370370                1\n",
       "248747                1\n",
       "STON/O 2. 3101294     1\n",
       "4136                  1\n",
       "324669                1\n",
       "330958                1\n",
       "335677                1\n",
       "C.A. 24579            1\n",
       "2677                  1\n",
       "A./5. 2152            1\n",
       "7546                  1\n",
       "349253                1\n",
       "S.C./A.4. 23567       1\n",
       "349216                1\n",
       "370371                1\n",
       "14311                 1\n",
       "2662                  1\n",
       "A/4. 39886            1\n",
       "2926                  1\n",
       "113509                1\n",
       "PC 17601              1\n",
       "330959                1\n",
       "349249                1\n",
       "350406                1\n",
       "STON/O2. 3101282      1\n",
       "373450                1\n",
       "330877                1\n",
       "17463                 1\n",
       "113783                1\n",
       "A/5. 2151             1\n",
       "248706                1\n",
       "2631                  1\n",
       "244373                1\n",
       "345763                1\n",
       "2649                  1\n",
       "248698                1\n",
       "330923                1\n",
       "113788                1\n",
       "19947                 1\n",
       "C.A. 31026            1\n",
       "2697                  1\n",
       "PC 17759              1\n",
       "343276                1\n",
       "347466                1\n",
       "W.E.P. 5734           1\n",
       "364500                1\n",
       "374910                1\n",
       "PC 17754              1\n",
       "349245                1\n",
       "2669                  1\n",
       "349215                1\n",
       "7540                  1\n",
       "3101276               1\n",
       "349207                1\n",
       "343120                1\n",
       "312991                1\n",
       "343275                1\n",
       "SOTON/OQ 392086       1\n",
       "SO/C 14885            1\n",
       "113059                1\n",
       "330932                1\n",
       "345779                1\n",
       "345767                1\n",
       "374746                1\n",
       "349208                1\n",
       "348123                1\n",
       "2680                  1\n",
       "C.A. 33111            1\n",
       "315151                1\n",
       "3101281               1\n",
       "S.P. 3464             1\n",
       "C.A. 29395            1\n",
       "PC 17605              1\n",
       "PP 4348               1\n",
       "SW/PP 751             1\n",
       "A/5 21173             1\n",
       "341826                1\n",
       "3101277               1\n",
       "350052                1\n",
       "350407                1\n",
       "PC 17599              1\n",
       "240929                1\n",
       "STON/O 2. 3101289     1\n",
       "4137                  1\n",
       "SC 1748               1\n",
       "315096                1\n",
       "28664                 1\n",
       "347064                1\n",
       "312992                1\n",
       "349222                1\n",
       "394140                1\n",
       "350034                1\n",
       "367655                1\n",
       "330980                1\n",
       "3101267               1\n",
       "SOTON/O.Q. 3101310    1\n",
       "C 7076                1\n",
       "110813                1\n",
       "2626                  1\n",
       "14313                 1\n",
       "11765                 1\n",
       "323951                1\n",
       "27849                 1\n",
       "C 7077                1\n",
       "113503                1\n",
       "2648                  1\n",
       "347069                1\n",
       "STON/O 2. 3101293     1\n",
       "349227                1\n",
       "STON/O 2. 3101269     1\n",
       "343095                1\n",
       "28220                 1\n",
       "13509                 1\n",
       "113794                1\n",
       "113786                1\n",
       "65303                 1\n",
       "113051                1\n",
       "A/5 2817              1\n",
       "349240                1\n",
       "17464                 1\n",
       "250652                1\n",
       "F.C.C. 13531          1\n",
       "371060                1\n",
       "19952                 1\n",
       "364506                1\n",
       "111320                1\n",
       "234360                1\n",
       "33638                 1\n",
       "65306                 1\n",
       "230434                1\n",
       "347076                1\n",
       "345769                1\n",
       "C.A. 18723            1\n",
       "STON/O 2. 3101274     1\n",
       "SC/AH 3085            1\n",
       "110564                1\n",
       "SOTON/O.Q. 392078     1\n",
       "364851                1\n",
       "2003                  1\n",
       "A/4. 34244            1\n",
       "315082                1\n",
       "A/5. 13032            1\n",
       "349254                1\n",
       "28228                 1\n",
       "SC/PARIS 2167         1\n",
       "330931                1\n",
       "236171                1\n",
       "347464                1\n",
       "C.A. 17248            1\n",
       "347083                1\n",
       "PC 17596              1\n",
       "370375                1\n",
       "347073                1\n",
       "336439                1\n",
       "345778                1\n",
       "112059                1\n",
       "A/5. 10482            1\n",
       "113056                1\n",
       "349239                1\n",
       "345774                1\n",
       "349206                1\n",
       "237798                1\n",
       "382649                1\n",
       "384461                1\n",
       "237671                1\n",
       "SCO/W 1585            1\n",
       "347067                1\n",
       "237442                1\n",
       "C.A. 29566            1\n",
       "W./C. 6609            1\n",
       "26707                 1\n",
       "28665                 1\n",
       "W./C. 14263           1\n",
       "PC 17585              1\n",
       "STON/O 2. 3101275     1\n",
       "2694                  1\n",
       "347071                1\n",
       "362316                1\n",
       "113514                1\n",
       "2650                  1\n",
       "370373                1\n",
       "SC/Paris 2163         1\n",
       "349236                1\n",
       "31418                 1\n",
       "7598                  1\n",
       "113784                1\n",
       "248740                1\n",
       "244361                1\n",
       "229236                1\n",
       "248733                1\n",
       "386525                1\n",
       "349233                1\n",
       "315088                1\n",
       "7267                  1\n",
       "113510                1\n",
       "2695                  1\n",
       "2647                  1\n",
       "345783                1\n",
       "349225                1\n",
       "113043                1\n",
       "28551                 1\n",
       "345364                1\n",
       "234818                1\n",
       "349219                1\n",
       "A/5 21172             1\n",
       "29011                 1\n",
       "347470                1\n",
       "349243                1\n",
       "250651                1\n",
       "A/5 2466              1\n",
       "226593                1\n",
       "9234                  1\n",
       "19988                 1\n",
       "2693                  1\n",
       "PC 17612              1\n",
       "370376                1\n",
       "Name: Ticket, dtype: int64"
      ]
     },
     "execution_count": 17,
     "metadata": {},
     "output_type": "execute_result"
    }
   ],
   "source": [
    "pd.set_option('max_rows', None)\n",
    "train['Ticket'].value_counts()"
   ]
  },
  {
   "cell_type": "code",
   "execution_count": 18,
   "id": "32e3acb9",
   "metadata": {
    "execution": {
     "iopub.execute_input": "2022-01-25T14:35:44.586838Z",
     "iopub.status.busy": "2022-01-25T14:35:44.586063Z",
     "iopub.status.idle": "2022-01-25T14:35:44.595470Z",
     "shell.execute_reply": "2022-01-25T14:35:44.596029Z",
     "shell.execute_reply.started": "2022-01-25T01:15:21.861416Z"
    },
    "papermill": {
     "duration": 0.072152,
     "end_time": "2022-01-25T14:35:44.596230",
     "exception": false,
     "start_time": "2022-01-25T14:35:44.524078",
     "status": "completed"
    },
    "tags": []
   },
   "outputs": [],
   "source": [
    "train['numeric_ticket'] = train.Ticket.apply(lambda x: 1 if x.isnumeric() else 0)\n",
    "train['ticket_letters'] = train.Ticket.apply(lambda x: ''.join(x.split(' ')[:-1]).replace('.','').replace('/','').lower() if len(x.split(' ')[:-1]) > 0 else 0)"
   ]
  },
  {
   "cell_type": "code",
   "execution_count": 19,
   "id": "338b55fb",
   "metadata": {
    "execution": {
     "iopub.execute_input": "2022-01-25T14:35:44.724321Z",
     "iopub.status.busy": "2022-01-25T14:35:44.723634Z",
     "iopub.status.idle": "2022-01-25T14:35:44.728067Z",
     "shell.execute_reply": "2022-01-25T14:35:44.727537Z",
     "shell.execute_reply.started": "2022-01-25T01:15:21.872685Z"
    },
    "papermill": {
     "duration": 0.071053,
     "end_time": "2022-01-25T14:35:44.728254",
     "exception": false,
     "start_time": "2022-01-25T14:35:44.657201",
     "status": "completed"
    },
    "tags": []
   },
   "outputs": [
    {
     "data": {
      "text/plain": [
       "1    661\n",
       "0    230\n",
       "Name: numeric_ticket, dtype: int64"
      ]
     },
     "execution_count": 19,
     "metadata": {},
     "output_type": "execute_result"
    }
   ],
   "source": [
    "train['numeric_ticket'].value_counts()"
   ]
  },
  {
   "cell_type": "code",
   "execution_count": 20,
   "id": "ddcd12dc",
   "metadata": {
    "execution": {
     "iopub.execute_input": "2022-01-25T14:35:44.855411Z",
     "iopub.status.busy": "2022-01-25T14:35:44.854708Z",
     "iopub.status.idle": "2022-01-25T14:35:44.857514Z",
     "shell.execute_reply": "2022-01-25T14:35:44.858286Z",
     "shell.execute_reply.started": "2022-01-25T01:15:21.889361Z"
    },
    "papermill": {
     "duration": 0.070558,
     "end_time": "2022-01-25T14:35:44.858545",
     "exception": false,
     "start_time": "2022-01-25T14:35:44.787987",
     "status": "completed"
    },
    "tags": []
   },
   "outputs": [
    {
     "data": {
      "text/plain": [
       "0            665\n",
       "pc            60\n",
       "ca            41\n",
       "a5            21\n",
       "stono2        18\n",
       "sotonoq       15\n",
       "scparis       11\n",
       "wc            10\n",
       "a4             7\n",
       "soc            6\n",
       "fcc            5\n",
       "c              5\n",
       "sopp           3\n",
       "pp             3\n",
       "wep            3\n",
       "ppp            2\n",
       "scah           2\n",
       "sotono2        2\n",
       "swpp           2\n",
       "fc             1\n",
       "scahbasle      1\n",
       "as             1\n",
       "sp             1\n",
       "sc             1\n",
       "scow           1\n",
       "fa             1\n",
       "sop            1\n",
       "sca4           1\n",
       "casoton        1\n",
       "Name: ticket_letters, dtype: int64"
      ]
     },
     "execution_count": 20,
     "metadata": {},
     "output_type": "execute_result"
    }
   ],
   "source": [
    "pd.set_option('max_rows', None)\n",
    "train['ticket_letters'].value_counts()"
   ]
  },
  {
   "cell_type": "code",
   "execution_count": 21,
   "id": "d3e21d0e",
   "metadata": {
    "execution": {
     "iopub.execute_input": "2022-01-25T14:35:44.985345Z",
     "iopub.status.busy": "2022-01-25T14:35:44.984642Z",
     "iopub.status.idle": "2022-01-25T14:35:45.002707Z",
     "shell.execute_reply": "2022-01-25T14:35:45.003240Z",
     "shell.execute_reply.started": "2022-01-25T01:15:21.907288Z"
    },
    "papermill": {
     "duration": 0.084766,
     "end_time": "2022-01-25T14:35:45.003423",
     "exception": false,
     "start_time": "2022-01-25T14:35:44.918657",
     "status": "completed"
    },
    "tags": []
   },
   "outputs": [
    {
     "data": {
      "text/html": [
       "<div>\n",
       "<style scoped>\n",
       "    .dataframe tbody tr th:only-of-type {\n",
       "        vertical-align: middle;\n",
       "    }\n",
       "\n",
       "    .dataframe tbody tr th {\n",
       "        vertical-align: top;\n",
       "    }\n",
       "\n",
       "    .dataframe thead th {\n",
       "        text-align: right;\n",
       "    }\n",
       "</style>\n",
       "<table border=\"1\" class=\"dataframe\">\n",
       "  <thead>\n",
       "    <tr style=\"text-align: right;\">\n",
       "      <th>numeric_ticket</th>\n",
       "      <th>0</th>\n",
       "      <th>1</th>\n",
       "    </tr>\n",
       "    <tr>\n",
       "      <th>Survived</th>\n",
       "      <th></th>\n",
       "      <th></th>\n",
       "    </tr>\n",
       "  </thead>\n",
       "  <tbody>\n",
       "    <tr>\n",
       "      <th>0</th>\n",
       "      <td>142</td>\n",
       "      <td>407</td>\n",
       "    </tr>\n",
       "    <tr>\n",
       "      <th>1</th>\n",
       "      <td>88</td>\n",
       "      <td>254</td>\n",
       "    </tr>\n",
       "  </tbody>\n",
       "</table>\n",
       "</div>"
      ],
      "text/plain": [
       "numeric_ticket    0    1\n",
       "Survived                \n",
       "0               142  407\n",
       "1                88  254"
      ]
     },
     "execution_count": 21,
     "metadata": {},
     "output_type": "execute_result"
    }
   ],
   "source": [
    "pd.pivot_table(train, index='Survived', columns='numeric_ticket', values='Ticket', aggfunc='count')"
   ]
  },
  {
   "cell_type": "markdown",
   "id": "0d5c9b33",
   "metadata": {
    "papermill": {
     "duration": 0.059726,
     "end_time": "2022-01-25T14:35:45.123401",
     "exception": false,
     "start_time": "2022-01-25T14:35:45.063675",
     "status": "completed"
    },
    "tags": []
   },
   "source": [
    "### Person's titles"
   ]
  },
  {
   "cell_type": "code",
   "execution_count": 22,
   "id": "d2b7bd64",
   "metadata": {
    "execution": {
     "iopub.execute_input": "2022-01-25T14:35:45.271811Z",
     "iopub.status.busy": "2022-01-25T14:35:45.270790Z",
     "iopub.status.idle": "2022-01-25T14:35:45.275587Z",
     "shell.execute_reply": "2022-01-25T14:35:45.274977Z",
     "shell.execute_reply.started": "2022-01-25T01:15:21.932189Z"
    },
    "papermill": {
     "duration": 0.092594,
     "end_time": "2022-01-25T14:35:45.275750",
     "exception": false,
     "start_time": "2022-01-25T14:35:45.183156",
     "status": "completed"
    },
    "tags": []
   },
   "outputs": [
    {
     "data": {
      "text/plain": [
       "0                              Braund, Mr. Owen Harris\n",
       "1    Cumings, Mrs. John Bradley (Florence Briggs Th...\n",
       "2                               Heikkinen, Miss. Laina\n",
       "3         Futrelle, Mrs. Jacques Heath (Lily May Peel)\n",
       "4                             Allen, Mr. William Henry\n",
       "5                                     Moran, Mr. James\n",
       "6                              McCarthy, Mr. Timothy J\n",
       "7                       Palsson, Master. Gosta Leonard\n",
       "8    Johnson, Mrs. Oscar W (Elisabeth Vilhelmina Berg)\n",
       "9                  Nasser, Mrs. Nicholas (Adele Achem)\n",
       "Name: Name, dtype: object"
      ]
     },
     "execution_count": 22,
     "metadata": {},
     "output_type": "execute_result"
    }
   ],
   "source": [
    "train['Name'].head(10)"
   ]
  },
  {
   "cell_type": "code",
   "execution_count": 23,
   "id": "8b2138fb",
   "metadata": {
    "execution": {
     "iopub.execute_input": "2022-01-25T14:35:45.417264Z",
     "iopub.status.busy": "2022-01-25T14:35:45.416308Z",
     "iopub.status.idle": "2022-01-25T14:35:45.419800Z",
     "shell.execute_reply": "2022-01-25T14:35:45.420319Z",
     "shell.execute_reply.started": "2022-01-25T01:15:21.944038Z"
    },
    "papermill": {
     "duration": 0.074761,
     "end_time": "2022-01-25T14:35:45.420498",
     "exception": false,
     "start_time": "2022-01-25T14:35:45.345737",
     "status": "completed"
    },
    "tags": []
   },
   "outputs": [
    {
     "data": {
      "text/plain": [
       "Mr              517\n",
       "Miss            182\n",
       "Mrs             125\n",
       "Master           40\n",
       "Dr                7\n",
       "Rev               6\n",
       "Mlle              2\n",
       "Major             2\n",
       "Col               2\n",
       "the Countess      1\n",
       "Capt              1\n",
       "Ms                1\n",
       "Sir               1\n",
       "Lady              1\n",
       "Mme               1\n",
       "Don               1\n",
       "Jonkheer          1\n",
       "Name: name_title, dtype: int64"
      ]
     },
     "execution_count": 23,
     "metadata": {},
     "output_type": "execute_result"
    }
   ],
   "source": [
    "train['name_title'] = train.Name.apply(lambda x: x.split(',')[1].split('.')[0].strip())\n",
    "train['name_title'].value_counts()"
   ]
  },
  {
   "cell_type": "markdown",
   "id": "4c99eba9",
   "metadata": {
    "execution": {
     "iopub.execute_input": "2022-01-23T05:32:17.584375Z",
     "iopub.status.busy": "2022-01-23T05:32:17.584094Z",
     "iopub.status.idle": "2022-01-23T05:32:17.59999Z",
     "shell.execute_reply": "2022-01-23T05:32:17.59916Z",
     "shell.execute_reply.started": "2022-01-23T05:32:17.584345Z"
    },
    "papermill": {
     "duration": 0.059977,
     "end_time": "2022-01-25T14:35:45.540418",
     "exception": false,
     "start_time": "2022-01-25T14:35:45.480441",
     "status": "completed"
    },
    "tags": []
   },
   "source": [
    "# Data Preprocessing for Model\n",
    "1) Drop null values from Embarked (only 2) and other null value from another feature\n",
    "\n",
    "2) Include only relevant variables (Since we have limited data, I wanted to exclude things like name and passanger ID so that we could have a reasonable number of features for our models to deal with)\n",
    "\n",
    "Variables: 'Pclass', 'Sex','Age', 'SibSp', 'Parch', 'Fare', 'Embarked', 'cabin_adv', 'cabin_multiple', 'numeric_ticket', 'name_title'\n",
    "\n",
    "3) Do categorical transforms on all data. Usually we would use a transformer, but with this approach we can ensure that our traning and test data have the same colums. We also may be able to infer something about the shape of the test data through this method. I will stress, this is generally not recommend outside of a competition (use onehot encoder).\n",
    "\n",
    "4) Impute data with mean for fare and age (Should also experiment with median)\n",
    "\n",
    "5) Normalized fare using logarithm to give more semblance of a normal distribution\n",
    "\n",
    "6) Scaled data 0-1 with standard scaler"
   ]
  },
  {
   "cell_type": "code",
   "execution_count": 24,
   "id": "76a4daef",
   "metadata": {
    "execution": {
     "iopub.execute_input": "2022-01-25T14:35:45.665479Z",
     "iopub.status.busy": "2022-01-25T14:35:45.664463Z",
     "iopub.status.idle": "2022-01-25T14:35:45.676103Z",
     "shell.execute_reply": "2022-01-25T14:35:45.676691Z",
     "shell.execute_reply.started": "2022-01-25T01:15:21.963802Z"
    },
    "papermill": {
     "duration": 0.075964,
     "end_time": "2022-01-25T14:35:45.676870",
     "exception": false,
     "start_time": "2022-01-25T14:35:45.600906",
     "status": "completed"
    },
    "tags": []
   },
   "outputs": [],
   "source": [
    "train['Sex'] = train['Sex'].replace(['male'], 0)\n",
    "train['Sex'] = train['Sex'].replace(['female'], 1)\n",
    "train['FirstClass'] = train['Pclass'].apply(lambda x:1 if x == 1 else 0)\n",
    "train['SecondClass'] = train['Pclass'].apply(lambda x:1 if x == 2 else 0)"
   ]
  },
  {
   "cell_type": "code",
   "execution_count": 25,
   "id": "72bac5ab",
   "metadata": {
    "execution": {
     "iopub.execute_input": "2022-01-25T14:35:45.806742Z",
     "iopub.status.busy": "2022-01-25T14:35:45.805810Z",
     "iopub.status.idle": "2022-01-25T14:35:45.829537Z",
     "shell.execute_reply": "2022-01-25T14:35:45.830206Z",
     "shell.execute_reply.started": "2022-01-25T01:15:21.980447Z"
    },
    "papermill": {
     "duration": 0.091392,
     "end_time": "2022-01-25T14:35:45.830381",
     "exception": false,
     "start_time": "2022-01-25T14:35:45.738989",
     "status": "completed"
    },
    "tags": []
   },
   "outputs": [
    {
     "data": {
      "text/html": [
       "<div>\n",
       "<style scoped>\n",
       "    .dataframe tbody tr th:only-of-type {\n",
       "        vertical-align: middle;\n",
       "    }\n",
       "\n",
       "    .dataframe tbody tr th {\n",
       "        vertical-align: top;\n",
       "    }\n",
       "\n",
       "    .dataframe thead th {\n",
       "        text-align: right;\n",
       "    }\n",
       "</style>\n",
       "<table border=\"1\" class=\"dataframe\">\n",
       "  <thead>\n",
       "    <tr style=\"text-align: right;\">\n",
       "      <th></th>\n",
       "      <th>PassengerId</th>\n",
       "      <th>Survived</th>\n",
       "      <th>Pclass</th>\n",
       "      <th>Name</th>\n",
       "      <th>Sex</th>\n",
       "      <th>Age</th>\n",
       "      <th>SibSp</th>\n",
       "      <th>Parch</th>\n",
       "      <th>Ticket</th>\n",
       "      <th>Fare</th>\n",
       "      <th>...</th>\n",
       "      <th>Embarked</th>\n",
       "      <th>relatives</th>\n",
       "      <th>travelled_alone</th>\n",
       "      <th>cabin_multiple</th>\n",
       "      <th>cabin_adv</th>\n",
       "      <th>numeric_ticket</th>\n",
       "      <th>ticket_letters</th>\n",
       "      <th>name_title</th>\n",
       "      <th>FirstClass</th>\n",
       "      <th>SecondClass</th>\n",
       "    </tr>\n",
       "  </thead>\n",
       "  <tbody>\n",
       "    <tr>\n",
       "      <th>0</th>\n",
       "      <td>1</td>\n",
       "      <td>0</td>\n",
       "      <td>3</td>\n",
       "      <td>Braund, Mr. Owen Harris</td>\n",
       "      <td>0</td>\n",
       "      <td>22.0</td>\n",
       "      <td>1</td>\n",
       "      <td>0</td>\n",
       "      <td>A/5 21171</td>\n",
       "      <td>7.2500</td>\n",
       "      <td>...</td>\n",
       "      <td>S</td>\n",
       "      <td>1</td>\n",
       "      <td>No</td>\n",
       "      <td>0</td>\n",
       "      <td>n</td>\n",
       "      <td>0</td>\n",
       "      <td>a5</td>\n",
       "      <td>Mr</td>\n",
       "      <td>0</td>\n",
       "      <td>0</td>\n",
       "    </tr>\n",
       "    <tr>\n",
       "      <th>1</th>\n",
       "      <td>2</td>\n",
       "      <td>1</td>\n",
       "      <td>1</td>\n",
       "      <td>Cumings, Mrs. John Bradley (Florence Briggs Th...</td>\n",
       "      <td>1</td>\n",
       "      <td>38.0</td>\n",
       "      <td>1</td>\n",
       "      <td>0</td>\n",
       "      <td>PC 17599</td>\n",
       "      <td>71.2833</td>\n",
       "      <td>...</td>\n",
       "      <td>C</td>\n",
       "      <td>1</td>\n",
       "      <td>No</td>\n",
       "      <td>1</td>\n",
       "      <td>C</td>\n",
       "      <td>0</td>\n",
       "      <td>pc</td>\n",
       "      <td>Mrs</td>\n",
       "      <td>1</td>\n",
       "      <td>0</td>\n",
       "    </tr>\n",
       "    <tr>\n",
       "      <th>2</th>\n",
       "      <td>3</td>\n",
       "      <td>1</td>\n",
       "      <td>3</td>\n",
       "      <td>Heikkinen, Miss. Laina</td>\n",
       "      <td>1</td>\n",
       "      <td>26.0</td>\n",
       "      <td>0</td>\n",
       "      <td>0</td>\n",
       "      <td>STON/O2. 3101282</td>\n",
       "      <td>7.9250</td>\n",
       "      <td>...</td>\n",
       "      <td>S</td>\n",
       "      <td>0</td>\n",
       "      <td>Yes</td>\n",
       "      <td>0</td>\n",
       "      <td>n</td>\n",
       "      <td>0</td>\n",
       "      <td>stono2</td>\n",
       "      <td>Miss</td>\n",
       "      <td>0</td>\n",
       "      <td>0</td>\n",
       "    </tr>\n",
       "    <tr>\n",
       "      <th>3</th>\n",
       "      <td>4</td>\n",
       "      <td>1</td>\n",
       "      <td>1</td>\n",
       "      <td>Futrelle, Mrs. Jacques Heath (Lily May Peel)</td>\n",
       "      <td>1</td>\n",
       "      <td>35.0</td>\n",
       "      <td>1</td>\n",
       "      <td>0</td>\n",
       "      <td>113803</td>\n",
       "      <td>53.1000</td>\n",
       "      <td>...</td>\n",
       "      <td>S</td>\n",
       "      <td>1</td>\n",
       "      <td>No</td>\n",
       "      <td>1</td>\n",
       "      <td>C</td>\n",
       "      <td>1</td>\n",
       "      <td>0</td>\n",
       "      <td>Mrs</td>\n",
       "      <td>1</td>\n",
       "      <td>0</td>\n",
       "    </tr>\n",
       "    <tr>\n",
       "      <th>4</th>\n",
       "      <td>5</td>\n",
       "      <td>0</td>\n",
       "      <td>3</td>\n",
       "      <td>Allen, Mr. William Henry</td>\n",
       "      <td>0</td>\n",
       "      <td>35.0</td>\n",
       "      <td>0</td>\n",
       "      <td>0</td>\n",
       "      <td>373450</td>\n",
       "      <td>8.0500</td>\n",
       "      <td>...</td>\n",
       "      <td>S</td>\n",
       "      <td>0</td>\n",
       "      <td>Yes</td>\n",
       "      <td>0</td>\n",
       "      <td>n</td>\n",
       "      <td>1</td>\n",
       "      <td>0</td>\n",
       "      <td>Mr</td>\n",
       "      <td>0</td>\n",
       "      <td>0</td>\n",
       "    </tr>\n",
       "  </tbody>\n",
       "</table>\n",
       "<p>5 rows × 21 columns</p>\n",
       "</div>"
      ],
      "text/plain": [
       "   PassengerId  Survived  Pclass  \\\n",
       "0            1         0       3   \n",
       "1            2         1       1   \n",
       "2            3         1       3   \n",
       "3            4         1       1   \n",
       "4            5         0       3   \n",
       "\n",
       "                                                Name  Sex   Age  SibSp  Parch  \\\n",
       "0                            Braund, Mr. Owen Harris    0  22.0      1      0   \n",
       "1  Cumings, Mrs. John Bradley (Florence Briggs Th...    1  38.0      1      0   \n",
       "2                             Heikkinen, Miss. Laina    1  26.0      0      0   \n",
       "3       Futrelle, Mrs. Jacques Heath (Lily May Peel)    1  35.0      1      0   \n",
       "4                           Allen, Mr. William Henry    0  35.0      0      0   \n",
       "\n",
       "             Ticket     Fare  ... Embarked relatives  travelled_alone  \\\n",
       "0         A/5 21171   7.2500  ...        S         1               No   \n",
       "1          PC 17599  71.2833  ...        C         1               No   \n",
       "2  STON/O2. 3101282   7.9250  ...        S         0              Yes   \n",
       "3            113803  53.1000  ...        S         1               No   \n",
       "4            373450   8.0500  ...        S         0              Yes   \n",
       "\n",
       "  cabin_multiple  cabin_adv numeric_ticket  ticket_letters name_title  \\\n",
       "0              0          n              0              a5         Mr   \n",
       "1              1          C              0              pc        Mrs   \n",
       "2              0          n              0          stono2       Miss   \n",
       "3              1          C              1               0        Mrs   \n",
       "4              0          n              1               0         Mr   \n",
       "\n",
       "  FirstClass  SecondClass  \n",
       "0          0            0  \n",
       "1          1            0  \n",
       "2          0            0  \n",
       "3          1            0  \n",
       "4          0            0  \n",
       "\n",
       "[5 rows x 21 columns]"
      ]
     },
     "execution_count": 25,
     "metadata": {},
     "output_type": "execute_result"
    }
   ],
   "source": [
    "train['Embarked'] = train['Embarked'].dropna()\n",
    "#train['Embarked'] = train['Embarked'].map({'C' : 1, 'Q' : 2, 'S' : 3})\n",
    "train.head()"
   ]
  },
  {
   "cell_type": "markdown",
   "id": "f0ebd4c1",
   "metadata": {
    "execution": {
     "iopub.execute_input": "2022-01-23T05:32:17.630596Z",
     "iopub.status.busy": "2022-01-23T05:32:17.630389Z",
     "iopub.status.idle": "2022-01-23T05:32:17.6418Z",
     "shell.execute_reply": "2022-01-23T05:32:17.64076Z",
     "shell.execute_reply.started": "2022-01-23T05:32:17.63057Z"
    },
    "papermill": {
     "duration": 0.061507,
     "end_time": "2022-01-25T14:35:45.953106",
     "exception": false,
     "start_time": "2022-01-25T14:35:45.891599",
     "status": "completed"
    },
    "tags": []
   },
   "source": [
    "### Dummy Variable\n",
    "Dummy Variables are created to avoid categorical variables, so the dummy variable will change the category per variable to its own binary identifier."
   ]
  },
  {
   "cell_type": "code",
   "execution_count": 26,
   "id": "19d04f5b",
   "metadata": {
    "execution": {
     "iopub.execute_input": "2022-01-25T14:35:46.081649Z",
     "iopub.status.busy": "2022-01-25T14:35:46.080879Z",
     "iopub.status.idle": "2022-01-25T14:35:46.086710Z",
     "shell.execute_reply": "2022-01-25T14:35:46.087392Z",
     "shell.execute_reply.started": "2022-01-25T01:15:22.011812Z"
    },
    "papermill": {
     "duration": 0.071259,
     "end_time": "2022-01-25T14:35:46.087588",
     "exception": false,
     "start_time": "2022-01-25T14:35:46.016329",
     "status": "completed"
    },
    "tags": []
   },
   "outputs": [],
   "source": [
    "features = train[['Pclass', 'Age', 'Sex', 'SibSp', 'Parch', 'Fare', 'cabin_multiple', 'numeric_ticket', 'FirstClass', 'SecondClass', 'cabin_adv', 'ticket_letters', 'name_title', 'Embarked']]\n",
    "survival = train['Survived']"
   ]
  },
  {
   "cell_type": "code",
   "execution_count": 27,
   "id": "e2816c5b",
   "metadata": {
    "execution": {
     "iopub.execute_input": "2022-01-25T14:35:46.214711Z",
     "iopub.status.busy": "2022-01-25T14:35:46.214007Z",
     "iopub.status.idle": "2022-01-25T14:35:46.232852Z",
     "shell.execute_reply": "2022-01-25T14:35:46.233501Z",
     "shell.execute_reply.started": "2022-01-25T01:15:22.027124Z"
    },
    "papermill": {
     "duration": 0.083792,
     "end_time": "2022-01-25T14:35:46.233704",
     "exception": false,
     "start_time": "2022-01-25T14:35:46.149912",
     "status": "completed"
    },
    "tags": []
   },
   "outputs": [],
   "source": [
    "for col in features.columns[10:]:\n",
    "    features = pd.get_dummies(features, columns = [col], prefix = [col])"
   ]
  },
  {
   "cell_type": "code",
   "execution_count": 28,
   "id": "bb238221",
   "metadata": {
    "execution": {
     "iopub.execute_input": "2022-01-25T14:35:46.361316Z",
     "iopub.status.busy": "2022-01-25T14:35:46.360512Z",
     "iopub.status.idle": "2022-01-25T14:35:46.394996Z",
     "shell.execute_reply": "2022-01-25T14:35:46.395566Z",
     "shell.execute_reply.started": "2022-01-25T01:15:22.052395Z"
    },
    "papermill": {
     "duration": 0.100288,
     "end_time": "2022-01-25T14:35:46.395746",
     "exception": false,
     "start_time": "2022-01-25T14:35:46.295458",
     "status": "completed"
    },
    "tags": []
   },
   "outputs": [
    {
     "data": {
      "text/html": [
       "<div>\n",
       "<style scoped>\n",
       "    .dataframe tbody tr th:only-of-type {\n",
       "        vertical-align: middle;\n",
       "    }\n",
       "\n",
       "    .dataframe tbody tr th {\n",
       "        vertical-align: top;\n",
       "    }\n",
       "\n",
       "    .dataframe thead th {\n",
       "        text-align: right;\n",
       "    }\n",
       "</style>\n",
       "<table border=\"1\" class=\"dataframe\">\n",
       "  <thead>\n",
       "    <tr style=\"text-align: right;\">\n",
       "      <th></th>\n",
       "      <th>Pclass</th>\n",
       "      <th>Age</th>\n",
       "      <th>Sex</th>\n",
       "      <th>SibSp</th>\n",
       "      <th>Parch</th>\n",
       "      <th>Fare</th>\n",
       "      <th>cabin_multiple</th>\n",
       "      <th>numeric_ticket</th>\n",
       "      <th>FirstClass</th>\n",
       "      <th>SecondClass</th>\n",
       "      <th>cabin_adv_A</th>\n",
       "      <th>cabin_adv_B</th>\n",
       "      <th>cabin_adv_C</th>\n",
       "      <th>cabin_adv_D</th>\n",
       "      <th>cabin_adv_E</th>\n",
       "      <th>cabin_adv_F</th>\n",
       "      <th>cabin_adv_G</th>\n",
       "      <th>cabin_adv_T</th>\n",
       "      <th>cabin_adv_n</th>\n",
       "      <th>ticket_letters_0</th>\n",
       "      <th>ticket_letters_a4</th>\n",
       "      <th>ticket_letters_a5</th>\n",
       "      <th>ticket_letters_as</th>\n",
       "      <th>ticket_letters_c</th>\n",
       "      <th>ticket_letters_ca</th>\n",
       "      <th>ticket_letters_casoton</th>\n",
       "      <th>ticket_letters_fa</th>\n",
       "      <th>ticket_letters_fc</th>\n",
       "      <th>ticket_letters_fcc</th>\n",
       "      <th>ticket_letters_pc</th>\n",
       "      <th>ticket_letters_pp</th>\n",
       "      <th>ticket_letters_ppp</th>\n",
       "      <th>ticket_letters_sc</th>\n",
       "      <th>ticket_letters_sca4</th>\n",
       "      <th>ticket_letters_scah</th>\n",
       "      <th>ticket_letters_scahbasle</th>\n",
       "      <th>ticket_letters_scow</th>\n",
       "      <th>ticket_letters_scparis</th>\n",
       "      <th>ticket_letters_soc</th>\n",
       "      <th>ticket_letters_sop</th>\n",
       "      <th>ticket_letters_sopp</th>\n",
       "      <th>ticket_letters_sotono2</th>\n",
       "      <th>ticket_letters_sotonoq</th>\n",
       "      <th>ticket_letters_sp</th>\n",
       "      <th>ticket_letters_stono2</th>\n",
       "      <th>ticket_letters_swpp</th>\n",
       "      <th>ticket_letters_wc</th>\n",
       "      <th>ticket_letters_wep</th>\n",
       "      <th>name_title_Capt</th>\n",
       "      <th>name_title_Col</th>\n",
       "      <th>name_title_Don</th>\n",
       "      <th>name_title_Dr</th>\n",
       "      <th>name_title_Jonkheer</th>\n",
       "      <th>name_title_Lady</th>\n",
       "      <th>name_title_Major</th>\n",
       "      <th>name_title_Master</th>\n",
       "      <th>name_title_Miss</th>\n",
       "      <th>name_title_Mlle</th>\n",
       "      <th>name_title_Mme</th>\n",
       "      <th>name_title_Mr</th>\n",
       "      <th>name_title_Mrs</th>\n",
       "      <th>name_title_Ms</th>\n",
       "      <th>name_title_Rev</th>\n",
       "      <th>name_title_Sir</th>\n",
       "      <th>name_title_the Countess</th>\n",
       "      <th>Embarked_C</th>\n",
       "      <th>Embarked_Q</th>\n",
       "      <th>Embarked_S</th>\n",
       "    </tr>\n",
       "  </thead>\n",
       "  <tbody>\n",
       "    <tr>\n",
       "      <th>0</th>\n",
       "      <td>3</td>\n",
       "      <td>22.0</td>\n",
       "      <td>0</td>\n",
       "      <td>1</td>\n",
       "      <td>0</td>\n",
       "      <td>7.2500</td>\n",
       "      <td>0</td>\n",
       "      <td>0</td>\n",
       "      <td>0</td>\n",
       "      <td>0</td>\n",
       "      <td>0</td>\n",
       "      <td>0</td>\n",
       "      <td>0</td>\n",
       "      <td>0</td>\n",
       "      <td>0</td>\n",
       "      <td>0</td>\n",
       "      <td>0</td>\n",
       "      <td>0</td>\n",
       "      <td>1</td>\n",
       "      <td>0</td>\n",
       "      <td>0</td>\n",
       "      <td>1</td>\n",
       "      <td>0</td>\n",
       "      <td>0</td>\n",
       "      <td>0</td>\n",
       "      <td>0</td>\n",
       "      <td>0</td>\n",
       "      <td>0</td>\n",
       "      <td>0</td>\n",
       "      <td>0</td>\n",
       "      <td>0</td>\n",
       "      <td>0</td>\n",
       "      <td>0</td>\n",
       "      <td>0</td>\n",
       "      <td>0</td>\n",
       "      <td>0</td>\n",
       "      <td>0</td>\n",
       "      <td>0</td>\n",
       "      <td>0</td>\n",
       "      <td>0</td>\n",
       "      <td>0</td>\n",
       "      <td>0</td>\n",
       "      <td>0</td>\n",
       "      <td>0</td>\n",
       "      <td>0</td>\n",
       "      <td>0</td>\n",
       "      <td>0</td>\n",
       "      <td>0</td>\n",
       "      <td>0</td>\n",
       "      <td>0</td>\n",
       "      <td>0</td>\n",
       "      <td>0</td>\n",
       "      <td>0</td>\n",
       "      <td>0</td>\n",
       "      <td>0</td>\n",
       "      <td>0</td>\n",
       "      <td>0</td>\n",
       "      <td>0</td>\n",
       "      <td>0</td>\n",
       "      <td>1</td>\n",
       "      <td>0</td>\n",
       "      <td>0</td>\n",
       "      <td>0</td>\n",
       "      <td>0</td>\n",
       "      <td>0</td>\n",
       "      <td>0</td>\n",
       "      <td>0</td>\n",
       "      <td>1</td>\n",
       "    </tr>\n",
       "    <tr>\n",
       "      <th>1</th>\n",
       "      <td>1</td>\n",
       "      <td>38.0</td>\n",
       "      <td>1</td>\n",
       "      <td>1</td>\n",
       "      <td>0</td>\n",
       "      <td>71.2833</td>\n",
       "      <td>1</td>\n",
       "      <td>0</td>\n",
       "      <td>1</td>\n",
       "      <td>0</td>\n",
       "      <td>0</td>\n",
       "      <td>0</td>\n",
       "      <td>1</td>\n",
       "      <td>0</td>\n",
       "      <td>0</td>\n",
       "      <td>0</td>\n",
       "      <td>0</td>\n",
       "      <td>0</td>\n",
       "      <td>0</td>\n",
       "      <td>0</td>\n",
       "      <td>0</td>\n",
       "      <td>0</td>\n",
       "      <td>0</td>\n",
       "      <td>0</td>\n",
       "      <td>0</td>\n",
       "      <td>0</td>\n",
       "      <td>0</td>\n",
       "      <td>0</td>\n",
       "      <td>0</td>\n",
       "      <td>1</td>\n",
       "      <td>0</td>\n",
       "      <td>0</td>\n",
       "      <td>0</td>\n",
       "      <td>0</td>\n",
       "      <td>0</td>\n",
       "      <td>0</td>\n",
       "      <td>0</td>\n",
       "      <td>0</td>\n",
       "      <td>0</td>\n",
       "      <td>0</td>\n",
       "      <td>0</td>\n",
       "      <td>0</td>\n",
       "      <td>0</td>\n",
       "      <td>0</td>\n",
       "      <td>0</td>\n",
       "      <td>0</td>\n",
       "      <td>0</td>\n",
       "      <td>0</td>\n",
       "      <td>0</td>\n",
       "      <td>0</td>\n",
       "      <td>0</td>\n",
       "      <td>0</td>\n",
       "      <td>0</td>\n",
       "      <td>0</td>\n",
       "      <td>0</td>\n",
       "      <td>0</td>\n",
       "      <td>0</td>\n",
       "      <td>0</td>\n",
       "      <td>0</td>\n",
       "      <td>0</td>\n",
       "      <td>1</td>\n",
       "      <td>0</td>\n",
       "      <td>0</td>\n",
       "      <td>0</td>\n",
       "      <td>0</td>\n",
       "      <td>1</td>\n",
       "      <td>0</td>\n",
       "      <td>0</td>\n",
       "    </tr>\n",
       "    <tr>\n",
       "      <th>2</th>\n",
       "      <td>3</td>\n",
       "      <td>26.0</td>\n",
       "      <td>1</td>\n",
       "      <td>0</td>\n",
       "      <td>0</td>\n",
       "      <td>7.9250</td>\n",
       "      <td>0</td>\n",
       "      <td>0</td>\n",
       "      <td>0</td>\n",
       "      <td>0</td>\n",
       "      <td>0</td>\n",
       "      <td>0</td>\n",
       "      <td>0</td>\n",
       "      <td>0</td>\n",
       "      <td>0</td>\n",
       "      <td>0</td>\n",
       "      <td>0</td>\n",
       "      <td>0</td>\n",
       "      <td>1</td>\n",
       "      <td>0</td>\n",
       "      <td>0</td>\n",
       "      <td>0</td>\n",
       "      <td>0</td>\n",
       "      <td>0</td>\n",
       "      <td>0</td>\n",
       "      <td>0</td>\n",
       "      <td>0</td>\n",
       "      <td>0</td>\n",
       "      <td>0</td>\n",
       "      <td>0</td>\n",
       "      <td>0</td>\n",
       "      <td>0</td>\n",
       "      <td>0</td>\n",
       "      <td>0</td>\n",
       "      <td>0</td>\n",
       "      <td>0</td>\n",
       "      <td>0</td>\n",
       "      <td>0</td>\n",
       "      <td>0</td>\n",
       "      <td>0</td>\n",
       "      <td>0</td>\n",
       "      <td>0</td>\n",
       "      <td>0</td>\n",
       "      <td>0</td>\n",
       "      <td>1</td>\n",
       "      <td>0</td>\n",
       "      <td>0</td>\n",
       "      <td>0</td>\n",
       "      <td>0</td>\n",
       "      <td>0</td>\n",
       "      <td>0</td>\n",
       "      <td>0</td>\n",
       "      <td>0</td>\n",
       "      <td>0</td>\n",
       "      <td>0</td>\n",
       "      <td>0</td>\n",
       "      <td>1</td>\n",
       "      <td>0</td>\n",
       "      <td>0</td>\n",
       "      <td>0</td>\n",
       "      <td>0</td>\n",
       "      <td>0</td>\n",
       "      <td>0</td>\n",
       "      <td>0</td>\n",
       "      <td>0</td>\n",
       "      <td>0</td>\n",
       "      <td>0</td>\n",
       "      <td>1</td>\n",
       "    </tr>\n",
       "    <tr>\n",
       "      <th>3</th>\n",
       "      <td>1</td>\n",
       "      <td>35.0</td>\n",
       "      <td>1</td>\n",
       "      <td>1</td>\n",
       "      <td>0</td>\n",
       "      <td>53.1000</td>\n",
       "      <td>1</td>\n",
       "      <td>1</td>\n",
       "      <td>1</td>\n",
       "      <td>0</td>\n",
       "      <td>0</td>\n",
       "      <td>0</td>\n",
       "      <td>1</td>\n",
       "      <td>0</td>\n",
       "      <td>0</td>\n",
       "      <td>0</td>\n",
       "      <td>0</td>\n",
       "      <td>0</td>\n",
       "      <td>0</td>\n",
       "      <td>1</td>\n",
       "      <td>0</td>\n",
       "      <td>0</td>\n",
       "      <td>0</td>\n",
       "      <td>0</td>\n",
       "      <td>0</td>\n",
       "      <td>0</td>\n",
       "      <td>0</td>\n",
       "      <td>0</td>\n",
       "      <td>0</td>\n",
       "      <td>0</td>\n",
       "      <td>0</td>\n",
       "      <td>0</td>\n",
       "      <td>0</td>\n",
       "      <td>0</td>\n",
       "      <td>0</td>\n",
       "      <td>0</td>\n",
       "      <td>0</td>\n",
       "      <td>0</td>\n",
       "      <td>0</td>\n",
       "      <td>0</td>\n",
       "      <td>0</td>\n",
       "      <td>0</td>\n",
       "      <td>0</td>\n",
       "      <td>0</td>\n",
       "      <td>0</td>\n",
       "      <td>0</td>\n",
       "      <td>0</td>\n",
       "      <td>0</td>\n",
       "      <td>0</td>\n",
       "      <td>0</td>\n",
       "      <td>0</td>\n",
       "      <td>0</td>\n",
       "      <td>0</td>\n",
       "      <td>0</td>\n",
       "      <td>0</td>\n",
       "      <td>0</td>\n",
       "      <td>0</td>\n",
       "      <td>0</td>\n",
       "      <td>0</td>\n",
       "      <td>0</td>\n",
       "      <td>1</td>\n",
       "      <td>0</td>\n",
       "      <td>0</td>\n",
       "      <td>0</td>\n",
       "      <td>0</td>\n",
       "      <td>0</td>\n",
       "      <td>0</td>\n",
       "      <td>1</td>\n",
       "    </tr>\n",
       "    <tr>\n",
       "      <th>4</th>\n",
       "      <td>3</td>\n",
       "      <td>35.0</td>\n",
       "      <td>0</td>\n",
       "      <td>0</td>\n",
       "      <td>0</td>\n",
       "      <td>8.0500</td>\n",
       "      <td>0</td>\n",
       "      <td>1</td>\n",
       "      <td>0</td>\n",
       "      <td>0</td>\n",
       "      <td>0</td>\n",
       "      <td>0</td>\n",
       "      <td>0</td>\n",
       "      <td>0</td>\n",
       "      <td>0</td>\n",
       "      <td>0</td>\n",
       "      <td>0</td>\n",
       "      <td>0</td>\n",
       "      <td>1</td>\n",
       "      <td>1</td>\n",
       "      <td>0</td>\n",
       "      <td>0</td>\n",
       "      <td>0</td>\n",
       "      <td>0</td>\n",
       "      <td>0</td>\n",
       "      <td>0</td>\n",
       "      <td>0</td>\n",
       "      <td>0</td>\n",
       "      <td>0</td>\n",
       "      <td>0</td>\n",
       "      <td>0</td>\n",
       "      <td>0</td>\n",
       "      <td>0</td>\n",
       "      <td>0</td>\n",
       "      <td>0</td>\n",
       "      <td>0</td>\n",
       "      <td>0</td>\n",
       "      <td>0</td>\n",
       "      <td>0</td>\n",
       "      <td>0</td>\n",
       "      <td>0</td>\n",
       "      <td>0</td>\n",
       "      <td>0</td>\n",
       "      <td>0</td>\n",
       "      <td>0</td>\n",
       "      <td>0</td>\n",
       "      <td>0</td>\n",
       "      <td>0</td>\n",
       "      <td>0</td>\n",
       "      <td>0</td>\n",
       "      <td>0</td>\n",
       "      <td>0</td>\n",
       "      <td>0</td>\n",
       "      <td>0</td>\n",
       "      <td>0</td>\n",
       "      <td>0</td>\n",
       "      <td>0</td>\n",
       "      <td>0</td>\n",
       "      <td>0</td>\n",
       "      <td>1</td>\n",
       "      <td>0</td>\n",
       "      <td>0</td>\n",
       "      <td>0</td>\n",
       "      <td>0</td>\n",
       "      <td>0</td>\n",
       "      <td>0</td>\n",
       "      <td>0</td>\n",
       "      <td>1</td>\n",
       "    </tr>\n",
       "  </tbody>\n",
       "</table>\n",
       "</div>"
      ],
      "text/plain": [
       "   Pclass   Age  Sex  SibSp  Parch     Fare  cabin_multiple  numeric_ticket  \\\n",
       "0       3  22.0    0      1      0   7.2500               0               0   \n",
       "1       1  38.0    1      1      0  71.2833               1               0   \n",
       "2       3  26.0    1      0      0   7.9250               0               0   \n",
       "3       1  35.0    1      1      0  53.1000               1               1   \n",
       "4       3  35.0    0      0      0   8.0500               0               1   \n",
       "\n",
       "   FirstClass  SecondClass  cabin_adv_A  cabin_adv_B  cabin_adv_C  \\\n",
       "0           0            0            0            0            0   \n",
       "1           1            0            0            0            1   \n",
       "2           0            0            0            0            0   \n",
       "3           1            0            0            0            1   \n",
       "4           0            0            0            0            0   \n",
       "\n",
       "   cabin_adv_D  cabin_adv_E  cabin_adv_F  cabin_adv_G  cabin_adv_T  \\\n",
       "0            0            0            0            0            0   \n",
       "1            0            0            0            0            0   \n",
       "2            0            0            0            0            0   \n",
       "3            0            0            0            0            0   \n",
       "4            0            0            0            0            0   \n",
       "\n",
       "   cabin_adv_n  ticket_letters_0  ticket_letters_a4  ticket_letters_a5  \\\n",
       "0            1                 0                  0                  1   \n",
       "1            0                 0                  0                  0   \n",
       "2            1                 0                  0                  0   \n",
       "3            0                 1                  0                  0   \n",
       "4            1                 1                  0                  0   \n",
       "\n",
       "   ticket_letters_as  ticket_letters_c  ticket_letters_ca  \\\n",
       "0                  0                 0                  0   \n",
       "1                  0                 0                  0   \n",
       "2                  0                 0                  0   \n",
       "3                  0                 0                  0   \n",
       "4                  0                 0                  0   \n",
       "\n",
       "   ticket_letters_casoton  ticket_letters_fa  ticket_letters_fc  \\\n",
       "0                       0                  0                  0   \n",
       "1                       0                  0                  0   \n",
       "2                       0                  0                  0   \n",
       "3                       0                  0                  0   \n",
       "4                       0                  0                  0   \n",
       "\n",
       "   ticket_letters_fcc  ticket_letters_pc  ticket_letters_pp  \\\n",
       "0                   0                  0                  0   \n",
       "1                   0                  1                  0   \n",
       "2                   0                  0                  0   \n",
       "3                   0                  0                  0   \n",
       "4                   0                  0                  0   \n",
       "\n",
       "   ticket_letters_ppp  ticket_letters_sc  ticket_letters_sca4  \\\n",
       "0                   0                  0                    0   \n",
       "1                   0                  0                    0   \n",
       "2                   0                  0                    0   \n",
       "3                   0                  0                    0   \n",
       "4                   0                  0                    0   \n",
       "\n",
       "   ticket_letters_scah  ticket_letters_scahbasle  ticket_letters_scow  \\\n",
       "0                    0                         0                    0   \n",
       "1                    0                         0                    0   \n",
       "2                    0                         0                    0   \n",
       "3                    0                         0                    0   \n",
       "4                    0                         0                    0   \n",
       "\n",
       "   ticket_letters_scparis  ticket_letters_soc  ticket_letters_sop  \\\n",
       "0                       0                   0                   0   \n",
       "1                       0                   0                   0   \n",
       "2                       0                   0                   0   \n",
       "3                       0                   0                   0   \n",
       "4                       0                   0                   0   \n",
       "\n",
       "   ticket_letters_sopp  ticket_letters_sotono2  ticket_letters_sotonoq  \\\n",
       "0                    0                       0                       0   \n",
       "1                    0                       0                       0   \n",
       "2                    0                       0                       0   \n",
       "3                    0                       0                       0   \n",
       "4                    0                       0                       0   \n",
       "\n",
       "   ticket_letters_sp  ticket_letters_stono2  ticket_letters_swpp  \\\n",
       "0                  0                      0                    0   \n",
       "1                  0                      0                    0   \n",
       "2                  0                      1                    0   \n",
       "3                  0                      0                    0   \n",
       "4                  0                      0                    0   \n",
       "\n",
       "   ticket_letters_wc  ticket_letters_wep  name_title_Capt  name_title_Col  \\\n",
       "0                  0                   0                0               0   \n",
       "1                  0                   0                0               0   \n",
       "2                  0                   0                0               0   \n",
       "3                  0                   0                0               0   \n",
       "4                  0                   0                0               0   \n",
       "\n",
       "   name_title_Don  name_title_Dr  name_title_Jonkheer  name_title_Lady  \\\n",
       "0               0              0                    0                0   \n",
       "1               0              0                    0                0   \n",
       "2               0              0                    0                0   \n",
       "3               0              0                    0                0   \n",
       "4               0              0                    0                0   \n",
       "\n",
       "   name_title_Major  name_title_Master  name_title_Miss  name_title_Mlle  \\\n",
       "0                 0                  0                0                0   \n",
       "1                 0                  0                0                0   \n",
       "2                 0                  0                1                0   \n",
       "3                 0                  0                0                0   \n",
       "4                 0                  0                0                0   \n",
       "\n",
       "   name_title_Mme  name_title_Mr  name_title_Mrs  name_title_Ms  \\\n",
       "0               0              1               0              0   \n",
       "1               0              0               1              0   \n",
       "2               0              0               0              0   \n",
       "3               0              0               1              0   \n",
       "4               0              1               0              0   \n",
       "\n",
       "   name_title_Rev  name_title_Sir  name_title_the Countess  Embarked_C  \\\n",
       "0               0               0                        0           0   \n",
       "1               0               0                        0           1   \n",
       "2               0               0                        0           0   \n",
       "3               0               0                        0           0   \n",
       "4               0               0                        0           0   \n",
       "\n",
       "   Embarked_Q  Embarked_S  \n",
       "0           0           1  \n",
       "1           0           0  \n",
       "2           0           1  \n",
       "3           0           1  \n",
       "4           0           1  "
      ]
     },
     "execution_count": 28,
     "metadata": {},
     "output_type": "execute_result"
    }
   ],
   "source": [
    "pd.set_option('max_columns', None)\n",
    "features.head()"
   ]
  },
  {
   "cell_type": "markdown",
   "id": "11ee2ae2",
   "metadata": {
    "execution": {
     "iopub.status.busy": "2022-01-23T05:32:17.802299Z",
     "iopub.status.idle": "2022-01-23T05:32:17.802958Z",
     "shell.execute_reply": "2022-01-23T05:32:17.802749Z",
     "shell.execute_reply.started": "2022-01-23T05:32:17.802717Z"
    },
    "papermill": {
     "duration": 0.062409,
     "end_time": "2022-01-25T14:35:46.520722",
     "exception": false,
     "start_time": "2022-01-25T14:35:46.458313",
     "status": "completed"
    },
    "tags": []
   },
   "source": [
    "### Splitting Data"
   ]
  },
  {
   "cell_type": "code",
   "execution_count": 29,
   "id": "26152f58",
   "metadata": {
    "execution": {
     "iopub.execute_input": "2022-01-25T14:35:46.650344Z",
     "iopub.status.busy": "2022-01-25T14:35:46.649620Z",
     "iopub.status.idle": "2022-01-25T14:35:46.989690Z",
     "shell.execute_reply": "2022-01-25T14:35:46.989008Z",
     "shell.execute_reply.started": "2022-01-25T01:15:22.093537Z"
    },
    "papermill": {
     "duration": 0.40636,
     "end_time": "2022-01-25T14:35:46.989846",
     "exception": false,
     "start_time": "2022-01-25T14:35:46.583486",
     "status": "completed"
    },
    "tags": []
   },
   "outputs": [],
   "source": [
    "from sklearn.model_selection import train_test_split\n",
    "\n",
    "x_train, x_test, y_train, y_test = train_test_split(features, survival, test_size = 0.7)"
   ]
  },
  {
   "cell_type": "markdown",
   "id": "356d70bf",
   "metadata": {
    "papermill": {
     "duration": 0.064428,
     "end_time": "2022-01-25T14:35:47.118423",
     "exception": false,
     "start_time": "2022-01-25T14:35:47.053995",
     "status": "completed"
    },
    "tags": []
   },
   "source": [
    "### Scaling Data"
   ]
  },
  {
   "cell_type": "code",
   "execution_count": 30,
   "id": "eb55ef0c",
   "metadata": {
    "execution": {
     "iopub.execute_input": "2022-01-25T14:35:47.250488Z",
     "iopub.status.busy": "2022-01-25T14:35:47.249740Z",
     "iopub.status.idle": "2022-01-25T14:35:47.262810Z",
     "shell.execute_reply": "2022-01-25T14:35:47.263487Z",
     "shell.execute_reply.started": "2022-01-25T01:15:22.10312Z"
    },
    "papermill": {
     "duration": 0.08272,
     "end_time": "2022-01-25T14:35:47.263688",
     "exception": false,
     "start_time": "2022-01-25T14:35:47.180968",
     "status": "completed"
    },
    "tags": []
   },
   "outputs": [],
   "source": [
    "from sklearn.preprocessing import StandardScaler\n",
    "\n",
    "scaler = StandardScaler()\n",
    "train_features = scaler.fit_transform(x_train)\n",
    "test_features = scaler.fit_transform(x_test)"
   ]
  },
  {
   "cell_type": "markdown",
   "id": "2c4dff28",
   "metadata": {
    "papermill": {
     "duration": 0.062905,
     "end_time": "2022-01-25T14:35:47.390859",
     "exception": false,
     "start_time": "2022-01-25T14:35:47.327954",
     "status": "completed"
    },
    "tags": []
   },
   "source": [
    "# Test Dataset"
   ]
  },
  {
   "cell_type": "code",
   "execution_count": 31,
   "id": "70b24f0b",
   "metadata": {
    "execution": {
     "iopub.execute_input": "2022-01-25T14:35:47.533625Z",
     "iopub.status.busy": "2022-01-25T14:35:47.532885Z",
     "iopub.status.idle": "2022-01-25T14:35:47.535753Z",
     "shell.execute_reply": "2022-01-25T14:35:47.536261Z",
     "shell.execute_reply.started": "2022-01-25T01:15:22.124782Z"
    },
    "papermill": {
     "duration": 0.083094,
     "end_time": "2022-01-25T14:35:47.536432",
     "exception": false,
     "start_time": "2022-01-25T14:35:47.453338",
     "status": "completed"
    },
    "tags": []
   },
   "outputs": [
    {
     "data": {
      "text/html": [
       "<div>\n",
       "<style scoped>\n",
       "    .dataframe tbody tr th:only-of-type {\n",
       "        vertical-align: middle;\n",
       "    }\n",
       "\n",
       "    .dataframe tbody tr th {\n",
       "        vertical-align: top;\n",
       "    }\n",
       "\n",
       "    .dataframe thead th {\n",
       "        text-align: right;\n",
       "    }\n",
       "</style>\n",
       "<table border=\"1\" class=\"dataframe\">\n",
       "  <thead>\n",
       "    <tr style=\"text-align: right;\">\n",
       "      <th></th>\n",
       "      <th>PassengerId</th>\n",
       "      <th>Pclass</th>\n",
       "      <th>Name</th>\n",
       "      <th>Sex</th>\n",
       "      <th>Age</th>\n",
       "      <th>SibSp</th>\n",
       "      <th>Parch</th>\n",
       "      <th>Ticket</th>\n",
       "      <th>Fare</th>\n",
       "      <th>Cabin</th>\n",
       "      <th>Embarked</th>\n",
       "    </tr>\n",
       "  </thead>\n",
       "  <tbody>\n",
       "    <tr>\n",
       "      <th>0</th>\n",
       "      <td>892</td>\n",
       "      <td>3</td>\n",
       "      <td>Kelly, Mr. James</td>\n",
       "      <td>male</td>\n",
       "      <td>34.5</td>\n",
       "      <td>0</td>\n",
       "      <td>0</td>\n",
       "      <td>330911</td>\n",
       "      <td>7.8292</td>\n",
       "      <td>NaN</td>\n",
       "      <td>Q</td>\n",
       "    </tr>\n",
       "    <tr>\n",
       "      <th>1</th>\n",
       "      <td>893</td>\n",
       "      <td>3</td>\n",
       "      <td>Wilkes, Mrs. James (Ellen Needs)</td>\n",
       "      <td>female</td>\n",
       "      <td>47.0</td>\n",
       "      <td>1</td>\n",
       "      <td>0</td>\n",
       "      <td>363272</td>\n",
       "      <td>7.0000</td>\n",
       "      <td>NaN</td>\n",
       "      <td>S</td>\n",
       "    </tr>\n",
       "    <tr>\n",
       "      <th>2</th>\n",
       "      <td>894</td>\n",
       "      <td>2</td>\n",
       "      <td>Myles, Mr. Thomas Francis</td>\n",
       "      <td>male</td>\n",
       "      <td>62.0</td>\n",
       "      <td>0</td>\n",
       "      <td>0</td>\n",
       "      <td>240276</td>\n",
       "      <td>9.6875</td>\n",
       "      <td>NaN</td>\n",
       "      <td>Q</td>\n",
       "    </tr>\n",
       "    <tr>\n",
       "      <th>3</th>\n",
       "      <td>895</td>\n",
       "      <td>3</td>\n",
       "      <td>Wirz, Mr. Albert</td>\n",
       "      <td>male</td>\n",
       "      <td>27.0</td>\n",
       "      <td>0</td>\n",
       "      <td>0</td>\n",
       "      <td>315154</td>\n",
       "      <td>8.6625</td>\n",
       "      <td>NaN</td>\n",
       "      <td>S</td>\n",
       "    </tr>\n",
       "    <tr>\n",
       "      <th>4</th>\n",
       "      <td>896</td>\n",
       "      <td>3</td>\n",
       "      <td>Hirvonen, Mrs. Alexander (Helga E Lindqvist)</td>\n",
       "      <td>female</td>\n",
       "      <td>22.0</td>\n",
       "      <td>1</td>\n",
       "      <td>1</td>\n",
       "      <td>3101298</td>\n",
       "      <td>12.2875</td>\n",
       "      <td>NaN</td>\n",
       "      <td>S</td>\n",
       "    </tr>\n",
       "    <tr>\n",
       "      <th>5</th>\n",
       "      <td>897</td>\n",
       "      <td>3</td>\n",
       "      <td>Svensson, Mr. Johan Cervin</td>\n",
       "      <td>male</td>\n",
       "      <td>14.0</td>\n",
       "      <td>0</td>\n",
       "      <td>0</td>\n",
       "      <td>7538</td>\n",
       "      <td>9.2250</td>\n",
       "      <td>NaN</td>\n",
       "      <td>S</td>\n",
       "    </tr>\n",
       "    <tr>\n",
       "      <th>6</th>\n",
       "      <td>898</td>\n",
       "      <td>3</td>\n",
       "      <td>Connolly, Miss. Kate</td>\n",
       "      <td>female</td>\n",
       "      <td>30.0</td>\n",
       "      <td>0</td>\n",
       "      <td>0</td>\n",
       "      <td>330972</td>\n",
       "      <td>7.6292</td>\n",
       "      <td>NaN</td>\n",
       "      <td>Q</td>\n",
       "    </tr>\n",
       "    <tr>\n",
       "      <th>7</th>\n",
       "      <td>899</td>\n",
       "      <td>2</td>\n",
       "      <td>Caldwell, Mr. Albert Francis</td>\n",
       "      <td>male</td>\n",
       "      <td>26.0</td>\n",
       "      <td>1</td>\n",
       "      <td>1</td>\n",
       "      <td>248738</td>\n",
       "      <td>29.0000</td>\n",
       "      <td>NaN</td>\n",
       "      <td>S</td>\n",
       "    </tr>\n",
       "    <tr>\n",
       "      <th>8</th>\n",
       "      <td>900</td>\n",
       "      <td>3</td>\n",
       "      <td>Abrahim, Mrs. Joseph (Sophie Halaut Easu)</td>\n",
       "      <td>female</td>\n",
       "      <td>18.0</td>\n",
       "      <td>0</td>\n",
       "      <td>0</td>\n",
       "      <td>2657</td>\n",
       "      <td>7.2292</td>\n",
       "      <td>NaN</td>\n",
       "      <td>C</td>\n",
       "    </tr>\n",
       "    <tr>\n",
       "      <th>9</th>\n",
       "      <td>901</td>\n",
       "      <td>3</td>\n",
       "      <td>Davies, Mr. John Samuel</td>\n",
       "      <td>male</td>\n",
       "      <td>21.0</td>\n",
       "      <td>2</td>\n",
       "      <td>0</td>\n",
       "      <td>A/4 48871</td>\n",
       "      <td>24.1500</td>\n",
       "      <td>NaN</td>\n",
       "      <td>S</td>\n",
       "    </tr>\n",
       "  </tbody>\n",
       "</table>\n",
       "</div>"
      ],
      "text/plain": [
       "   PassengerId  Pclass                                          Name     Sex  \\\n",
       "0          892       3                              Kelly, Mr. James    male   \n",
       "1          893       3              Wilkes, Mrs. James (Ellen Needs)  female   \n",
       "2          894       2                     Myles, Mr. Thomas Francis    male   \n",
       "3          895       3                              Wirz, Mr. Albert    male   \n",
       "4          896       3  Hirvonen, Mrs. Alexander (Helga E Lindqvist)  female   \n",
       "5          897       3                    Svensson, Mr. Johan Cervin    male   \n",
       "6          898       3                          Connolly, Miss. Kate  female   \n",
       "7          899       2                  Caldwell, Mr. Albert Francis    male   \n",
       "8          900       3     Abrahim, Mrs. Joseph (Sophie Halaut Easu)  female   \n",
       "9          901       3                       Davies, Mr. John Samuel    male   \n",
       "\n",
       "    Age  SibSp  Parch     Ticket     Fare Cabin Embarked  \n",
       "0  34.5      0      0     330911   7.8292   NaN        Q  \n",
       "1  47.0      1      0     363272   7.0000   NaN        S  \n",
       "2  62.0      0      0     240276   9.6875   NaN        Q  \n",
       "3  27.0      0      0     315154   8.6625   NaN        S  \n",
       "4  22.0      1      1    3101298  12.2875   NaN        S  \n",
       "5  14.0      0      0       7538   9.2250   NaN        S  \n",
       "6  30.0      0      0     330972   7.6292   NaN        Q  \n",
       "7  26.0      1      1     248738  29.0000   NaN        S  \n",
       "8  18.0      0      0       2657   7.2292   NaN        C  \n",
       "9  21.0      2      0  A/4 48871  24.1500   NaN        S  "
      ]
     },
     "execution_count": 31,
     "metadata": {},
     "output_type": "execute_result"
    }
   ],
   "source": [
    "test.head(10)"
   ]
  },
  {
   "cell_type": "code",
   "execution_count": 32,
   "id": "5a3a686a",
   "metadata": {
    "execution": {
     "iopub.execute_input": "2022-01-25T14:35:47.666703Z",
     "iopub.status.busy": "2022-01-25T14:35:47.665909Z",
     "iopub.status.idle": "2022-01-25T14:35:47.677556Z",
     "shell.execute_reply": "2022-01-25T14:35:47.678676Z",
     "shell.execute_reply.started": "2022-01-25T01:15:22.146421Z"
    },
    "papermill": {
     "duration": 0.079356,
     "end_time": "2022-01-25T14:35:47.679042",
     "exception": false,
     "start_time": "2022-01-25T14:35:47.599686",
     "status": "completed"
    },
    "tags": []
   },
   "outputs": [
    {
     "name": "stdout",
     "output_type": "stream",
     "text": [
      "<class 'pandas.core.frame.DataFrame'>\n",
      "RangeIndex: 418 entries, 0 to 417\n",
      "Data columns (total 11 columns):\n",
      " #   Column       Non-Null Count  Dtype  \n",
      "---  ------       --------------  -----  \n",
      " 0   PassengerId  418 non-null    int64  \n",
      " 1   Pclass       418 non-null    int64  \n",
      " 2   Name         418 non-null    object \n",
      " 3   Sex          418 non-null    object \n",
      " 4   Age          332 non-null    float64\n",
      " 5   SibSp        418 non-null    int64  \n",
      " 6   Parch        418 non-null    int64  \n",
      " 7   Ticket       418 non-null    object \n",
      " 8   Fare         417 non-null    float64\n",
      " 9   Cabin        91 non-null     object \n",
      " 10  Embarked     418 non-null    object \n",
      "dtypes: float64(2), int64(4), object(5)\n",
      "memory usage: 36.0+ KB\n"
     ]
    }
   ],
   "source": [
    "test.info()"
   ]
  },
  {
   "cell_type": "code",
   "execution_count": 33,
   "id": "ebac0346",
   "metadata": {
    "execution": {
     "iopub.execute_input": "2022-01-25T14:35:47.812954Z",
     "iopub.status.busy": "2022-01-25T14:35:47.812226Z",
     "iopub.status.idle": "2022-01-25T14:35:47.832606Z",
     "shell.execute_reply": "2022-01-25T14:35:47.833152Z",
     "shell.execute_reply.started": "2022-01-25T01:15:22.162024Z"
    },
    "papermill": {
     "duration": 0.088236,
     "end_time": "2022-01-25T14:35:47.833350",
     "exception": false,
     "start_time": "2022-01-25T14:35:47.745114",
     "status": "completed"
    },
    "tags": []
   },
   "outputs": [],
   "source": [
    "test['cabin_multiple'] = test.Cabin.apply(lambda x: 0 if pd.isna(x) else len(x.split(' ')))\n",
    "test['cabin_adv'] = test.Cabin.apply(lambda x: str(x)[0])\n",
    "test['numeric_ticket'] = test.Ticket.apply(lambda x: 1 if x.isnumeric() else 0)\n",
    "test['ticket_letters'] = test.Ticket.apply(lambda x: ''.join(x.split(' ')[:-1]).replace('.','').replace('/','').lower() if len(x.split(' ')[:-1]) > 0 else 0)\n",
    "test['name_title'] = test.Name.apply(lambda x: x.split(',')[1].split('.')[0].strip())\n",
    "test['Sex'] = test['Sex'].replace(['male'], 0)\n",
    "test['Sex'] = test['Sex'].replace(['female'], 1)\n",
    "test['Age'].fillna(value = round(np.mean(test['Age'])), inplace=True)\n",
    "test['FirstClass'] = test['Pclass'].apply(lambda x:1 if x == 1 else 0)\n",
    "test['SecondClass'] = test['Pclass'].apply(lambda x:1 if x == 2 else 0)"
   ]
  },
  {
   "cell_type": "code",
   "execution_count": 34,
   "id": "83bddf83",
   "metadata": {
    "execution": {
     "iopub.execute_input": "2022-01-25T14:35:47.966011Z",
     "iopub.status.busy": "2022-01-25T14:35:47.965158Z",
     "iopub.status.idle": "2022-01-25T14:35:47.971032Z",
     "shell.execute_reply": "2022-01-25T14:35:47.971624Z",
     "shell.execute_reply.started": "2022-01-25T01:15:22.190359Z"
    },
    "papermill": {
     "duration": 0.07345,
     "end_time": "2022-01-25T14:35:47.971820",
     "exception": false,
     "start_time": "2022-01-25T14:35:47.898370",
     "status": "completed"
    },
    "tags": []
   },
   "outputs": [],
   "source": [
    "datatest_features = test[['Pclass', 'Age', 'Sex', 'SibSp', 'Parch', 'Fare', 'cabin_multiple', 'numeric_ticket', 'FirstClass', 'SecondClass', 'cabin_adv', 'ticket_letters', 'name_title', 'Embarked']]"
   ]
  },
  {
   "cell_type": "code",
   "execution_count": 35,
   "id": "0191975e",
   "metadata": {
    "execution": {
     "iopub.execute_input": "2022-01-25T14:35:48.104976Z",
     "iopub.status.busy": "2022-01-25T14:35:48.104222Z",
     "iopub.status.idle": "2022-01-25T14:35:48.123667Z",
     "shell.execute_reply": "2022-01-25T14:35:48.124178Z",
     "shell.execute_reply.started": "2022-01-25T01:15:22.201891Z"
    },
    "papermill": {
     "duration": 0.087079,
     "end_time": "2022-01-25T14:35:48.124373",
     "exception": false,
     "start_time": "2022-01-25T14:35:48.037294",
     "status": "completed"
    },
    "tags": []
   },
   "outputs": [],
   "source": [
    "for col in datatest_features.columns[10:]:\n",
    "    datatest_features = pd.get_dummies(datatest_features, columns = [col], prefix = [col])\n",
    "    \n",
    "test_passenger = scaler.fit_transform(test_features)"
   ]
  },
  {
   "cell_type": "markdown",
   "id": "9ff1fd7f",
   "metadata": {
    "papermill": {
     "duration": 0.064045,
     "end_time": "2022-01-25T14:35:48.252067",
     "exception": false,
     "start_time": "2022-01-25T14:35:48.188022",
     "status": "completed"
    },
    "tags": []
   },
   "source": [
    "## Model"
   ]
  },
  {
   "cell_type": "markdown",
   "id": "7529c45f",
   "metadata": {
    "papermill": {
     "duration": 0.063951,
     "end_time": "2022-01-25T14:35:48.380254",
     "exception": false,
     "start_time": "2022-01-25T14:35:48.316303",
     "status": "completed"
    },
    "tags": []
   },
   "source": [
    "### Linear Regression"
   ]
  },
  {
   "cell_type": "code",
   "execution_count": 36,
   "id": "d9726db7",
   "metadata": {
    "execution": {
     "iopub.execute_input": "2022-01-25T14:35:48.512705Z",
     "iopub.status.busy": "2022-01-25T14:35:48.510077Z",
     "iopub.status.idle": "2022-01-25T14:35:48.625470Z",
     "shell.execute_reply": "2022-01-25T14:35:48.627107Z",
     "shell.execute_reply.started": "2022-01-25T01:15:22.23011Z"
    },
    "papermill": {
     "duration": 0.183497,
     "end_time": "2022-01-25T14:35:48.627428",
     "exception": false,
     "start_time": "2022-01-25T14:35:48.443931",
     "status": "completed"
    },
    "tags": []
   },
   "outputs": [
    {
     "name": "stdout",
     "output_type": "stream",
     "text": [
      "0.5660938114750853\n",
      "-2.6543446145574524e+24\n"
     ]
    }
   ],
   "source": [
    "from sklearn.linear_model import LinearRegression\n",
    "lr_model = LinearRegression()\n",
    "lr_model.fit(train_features, y_train)\n",
    "\n",
    "print(lr_model.score(train_features, y_train))\n",
    "print(lr_model.score(test_features, y_test))"
   ]
  },
  {
   "cell_type": "markdown",
   "id": "ff685da4",
   "metadata": {
    "papermill": {
     "duration": 0.064863,
     "end_time": "2022-01-25T14:35:48.809785",
     "exception": false,
     "start_time": "2022-01-25T14:35:48.744922",
     "status": "completed"
    },
    "tags": []
   },
   "source": [
    "### KNN "
   ]
  },
  {
   "cell_type": "code",
   "execution_count": 37,
   "id": "0c7739db",
   "metadata": {
    "execution": {
     "iopub.execute_input": "2022-01-25T14:35:48.949831Z",
     "iopub.status.busy": "2022-01-25T14:35:48.949088Z",
     "iopub.status.idle": "2022-01-25T14:35:49.098738Z",
     "shell.execute_reply": "2022-01-25T14:35:49.098118Z",
     "shell.execute_reply.started": "2022-01-25T01:15:22.246645Z"
    },
    "papermill": {
     "duration": 0.224791,
     "end_time": "2022-01-25T14:35:49.098885",
     "exception": false,
     "start_time": "2022-01-25T14:35:48.874094",
     "status": "completed"
    },
    "tags": []
   },
   "outputs": [
    {
     "name": "stdout",
     "output_type": "stream",
     "text": [
      "0.846441947565543\n",
      "0.7131410256410257\n"
     ]
    }
   ],
   "source": [
    "from sklearn.neighbors import KNeighborsClassifier\n",
    "\n",
    "knn_model = KNeighborsClassifier(n_neighbors = 2).fit(train_features, y_train)\n",
    "print(knn_model.score(train_features, y_train))\n",
    "print(knn_model.score(test_features, y_test))"
   ]
  },
  {
   "cell_type": "markdown",
   "id": "96ab5edf",
   "metadata": {
    "papermill": {
     "duration": 0.063762,
     "end_time": "2022-01-25T14:35:49.229147",
     "exception": false,
     "start_time": "2022-01-25T14:35:49.165385",
     "status": "completed"
    },
    "tags": []
   },
   "source": [
    "### Logistic Regression"
   ]
  },
  {
   "cell_type": "code",
   "execution_count": 38,
   "id": "aa859958",
   "metadata": {
    "execution": {
     "iopub.execute_input": "2022-01-25T14:35:49.361730Z",
     "iopub.status.busy": "2022-01-25T14:35:49.360939Z",
     "iopub.status.idle": "2022-01-25T14:35:49.399194Z",
     "shell.execute_reply": "2022-01-25T14:35:49.397707Z",
     "shell.execute_reply.started": "2022-01-25T01:15:22.382832Z"
    },
    "papermill": {
     "duration": 0.105763,
     "end_time": "2022-01-25T14:35:49.399465",
     "exception": false,
     "start_time": "2022-01-25T14:35:49.293702",
     "status": "completed"
    },
    "tags": []
   },
   "outputs": [
    {
     "name": "stdout",
     "output_type": "stream",
     "text": [
      "0.8614232209737828\n",
      "0.7660256410256411\n"
     ]
    }
   ],
   "source": [
    "from sklearn.linear_model import LogisticRegression\n",
    "\n",
    "logr_model = LogisticRegression().fit(train_features, y_train)\n",
    "\n",
    "print(logr_model.score(train_features, y_train))\n",
    "print(logr_model.score(test_features, y_test))"
   ]
  },
  {
   "cell_type": "markdown",
   "id": "785ff22c",
   "metadata": {
    "papermill": {
     "duration": 0.066009,
     "end_time": "2022-01-25T14:35:49.584015",
     "exception": false,
     "start_time": "2022-01-25T14:35:49.518006",
     "status": "completed"
    },
    "tags": []
   },
   "source": [
    "### Support Vector Machines"
   ]
  },
  {
   "cell_type": "code",
   "execution_count": 39,
   "id": "761bccd3",
   "metadata": {
    "execution": {
     "iopub.execute_input": "2022-01-25T14:35:49.723004Z",
     "iopub.status.busy": "2022-01-25T14:35:49.721924Z",
     "iopub.status.idle": "2022-01-25T14:35:49.746407Z",
     "shell.execute_reply": "2022-01-25T14:35:49.746997Z",
     "shell.execute_reply.started": "2022-01-25T01:15:22.417069Z"
    },
    "papermill": {
     "duration": 0.097188,
     "end_time": "2022-01-25T14:35:49.747199",
     "exception": false,
     "start_time": "2022-01-25T14:35:49.650011",
     "status": "completed"
    },
    "tags": []
   },
   "outputs": [
    {
     "name": "stdout",
     "output_type": "stream",
     "text": [
      "0.9363295880149812\n",
      "0.7467948717948718\n"
     ]
    }
   ],
   "source": [
    "from sklearn.svm import SVC\n",
    "\n",
    "svc_model = SVC(C = 50).fit(train_features, y_train)\n",
    "\n",
    "print(svc_model.score(train_features, y_train))\n",
    "print(svc_model.score(test_features, y_test))"
   ]
  },
  {
   "cell_type": "markdown",
   "id": "afc01362",
   "metadata": {
    "papermill": {
     "duration": 0.065085,
     "end_time": "2022-01-25T14:35:49.879265",
     "exception": false,
     "start_time": "2022-01-25T14:35:49.814180",
     "status": "completed"
    },
    "tags": []
   },
   "source": [
    "### Decision Trees"
   ]
  },
  {
   "cell_type": "code",
   "execution_count": 40,
   "id": "dddd362a",
   "metadata": {
    "execution": {
     "iopub.execute_input": "2022-01-25T14:35:50.014016Z",
     "iopub.status.busy": "2022-01-25T14:35:50.012904Z",
     "iopub.status.idle": "2022-01-25T14:35:50.055105Z",
     "shell.execute_reply": "2022-01-25T14:35:50.056073Z",
     "shell.execute_reply.started": "2022-01-25T01:15:22.46443Z"
    },
    "papermill": {
     "duration": 0.111168,
     "end_time": "2022-01-25T14:35:50.056338",
     "exception": false,
     "start_time": "2022-01-25T14:35:49.945170",
     "status": "completed"
    },
    "tags": []
   },
   "outputs": [
    {
     "name": "stdout",
     "output_type": "stream",
     "text": [
      "0.9962546816479401\n",
      "0.7483974358974359\n"
     ]
    }
   ],
   "source": [
    "from sklearn.tree import DecisionTreeClassifier\n",
    "\n",
    "tree_model = DecisionTreeClassifier().fit(train_features, y_train)\n",
    "\n",
    "print(tree_model.score(train_features, y_train))\n",
    "print(tree_model.score(test_features, y_test))"
   ]
  },
  {
   "cell_type": "markdown",
   "id": "c36c74a0",
   "metadata": {
    "papermill": {
     "duration": 0.066742,
     "end_time": "2022-01-25T14:35:50.189449",
     "exception": false,
     "start_time": "2022-01-25T14:35:50.122707",
     "status": "completed"
    },
    "tags": []
   },
   "source": [
    "### Random Forest"
   ]
  },
  {
   "cell_type": "code",
   "execution_count": 41,
   "id": "b0597473",
   "metadata": {
    "execution": {
     "iopub.execute_input": "2022-01-25T14:35:50.328066Z",
     "iopub.status.busy": "2022-01-25T14:35:50.326990Z",
     "iopub.status.idle": "2022-01-25T14:35:50.711713Z",
     "shell.execute_reply": "2022-01-25T14:35:50.712716Z",
     "shell.execute_reply.started": "2022-01-25T01:16:38.585791Z"
    },
    "papermill": {
     "duration": 0.456639,
     "end_time": "2022-01-25T14:35:50.713100",
     "exception": false,
     "start_time": "2022-01-25T14:35:50.256461",
     "status": "completed"
    },
    "tags": []
   },
   "outputs": [
    {
     "name": "stdout",
     "output_type": "stream",
     "text": [
      "0.9962546816479401\n",
      "0.7740384615384616\n"
     ]
    }
   ],
   "source": [
    "from sklearn.ensemble import RandomForestClassifier\n",
    "\n",
    "rforest_model = RandomForestClassifier(n_estimators = 150).fit(train_features, y_train)\n",
    "\n",
    "print(rforest_model.score(train_features, y_train))\n",
    "print(rforest_model.score(test_features, y_test))"
   ]
  },
  {
   "cell_type": "code",
   "execution_count": 42,
   "id": "ac9945b2",
   "metadata": {
    "execution": {
     "iopub.execute_input": "2022-01-25T14:35:50.861214Z",
     "iopub.status.busy": "2022-01-25T14:35:50.859938Z",
     "iopub.status.idle": "2022-01-25T14:35:51.035939Z",
     "shell.execute_reply": "2022-01-25T14:35:51.035052Z",
     "shell.execute_reply.started": "2022-01-25T01:38:25.288781Z"
    },
    "papermill": {
     "duration": 0.255184,
     "end_time": "2022-01-25T14:35:51.036327",
     "exception": true,
     "start_time": "2022-01-25T14:35:50.781143",
     "status": "failed"
    },
    "tags": []
   },
   "outputs": [
    {
     "ename": "NameError",
     "evalue": "name 'svc_survived' is not defined",
     "output_type": "error",
     "traceback": [
      "\u001b[0;31m---------------------------------------------------------------------------\u001b[0m",
      "\u001b[0;31mNameError\u001b[0m                                 Traceback (most recent call last)",
      "\u001b[0;32m/tmp/ipykernel_19/2035486982.py\u001b[0m in \u001b[0;36m<module>\u001b[0;34m\u001b[0m\n\u001b[1;32m      1\u001b[0m \u001b[0mlogr_survived\u001b[0m \u001b[0;34m=\u001b[0m \u001b[0mlogr_model\u001b[0m\u001b[0;34m.\u001b[0m\u001b[0mpredict\u001b[0m\u001b[0;34m(\u001b[0m\u001b[0mtest_passenger\u001b[0m\u001b[0;34m)\u001b[0m\u001b[0;34m\u001b[0m\u001b[0;34m\u001b[0m\u001b[0m\n\u001b[1;32m      2\u001b[0m \u001b[0mpassengerID\u001b[0m \u001b[0;34m=\u001b[0m \u001b[0mtest\u001b[0m\u001b[0;34m[\u001b[0m\u001b[0;34m'PassengerId'\u001b[0m\u001b[0;34m]\u001b[0m\u001b[0;34m\u001b[0m\u001b[0;34m\u001b[0m\u001b[0m\n\u001b[0;32m----> 3\u001b[0;31m \u001b[0mresult\u001b[0m \u001b[0;34m=\u001b[0m \u001b[0mlist\u001b[0m\u001b[0;34m(\u001b[0m\u001b[0mzip\u001b[0m\u001b[0;34m(\u001b[0m\u001b[0mpassengerID\u001b[0m\u001b[0;34m,\u001b[0m \u001b[0msvc_survived\u001b[0m\u001b[0;34m)\u001b[0m\u001b[0;34m)\u001b[0m\u001b[0;34m\u001b[0m\u001b[0;34m\u001b[0m\u001b[0m\n\u001b[0m\u001b[1;32m      4\u001b[0m \u001b[0mlogr_result\u001b[0m \u001b[0;34m=\u001b[0m \u001b[0mpd\u001b[0m\u001b[0;34m.\u001b[0m\u001b[0mDataFrame\u001b[0m\u001b[0;34m(\u001b[0m\u001b[0mresult\u001b[0m\u001b[0;34m,\u001b[0m \u001b[0mcolumns\u001b[0m \u001b[0;34m=\u001b[0m \u001b[0;34m[\u001b[0m\u001b[0;34m'PassengerId'\u001b[0m\u001b[0;34m,\u001b[0m \u001b[0;34m'Survived'\u001b[0m\u001b[0;34m]\u001b[0m\u001b[0;34m)\u001b[0m\u001b[0;34m\u001b[0m\u001b[0;34m\u001b[0m\u001b[0m\n\u001b[1;32m      5\u001b[0m \u001b[0mfl\u001b[0m \u001b[0;34m=\u001b[0m \u001b[0mlogr_result\u001b[0m\u001b[0;34m.\u001b[0m\u001b[0mto_csv\u001b[0m\u001b[0;34m(\u001b[0m\u001b[0;34m'logr_result.csv'\u001b[0m\u001b[0;34m,\u001b[0m \u001b[0mindex\u001b[0m \u001b[0;34m=\u001b[0m \u001b[0;32mFalse\u001b[0m\u001b[0;34m)\u001b[0m\u001b[0;34m\u001b[0m\u001b[0;34m\u001b[0m\u001b[0m\n",
      "\u001b[0;31mNameError\u001b[0m: name 'svc_survived' is not defined"
     ]
    }
   ],
   "source": [
    "logr_survived = logr_model.predict(test_passenger)\n",
    "passengerID = test['PassengerId']\n",
    "result = list(zip(passengerID, svc_survived))\n",
    "logr_result = pd.DataFrame(result, columns = ['PassengerId', 'Survived'])\n",
    "fl = logr_result.to_csv('logr_result.csv', index = False)\n",
    "print(fl)"
   ]
  },
  {
   "cell_type": "markdown",
   "id": "9bf0792f",
   "metadata": {
    "papermill": {
     "duration": null,
     "end_time": null,
     "exception": null,
     "start_time": null,
     "status": "pending"
    },
    "tags": []
   },
   "source": [
    "## Conclusion\n",
    "​\n",
    "After we create several machine learning models using the train dataset, here are the predicted results:\n",
    "​\n",
    "###### Linear Regression : 42%\n",
    "###### KNN : 83%\n",
    "###### Logistic Regression : 85%\n",
    "###### Support Vector Machines : 94%\n",
    "###### Decision Trees : 99%\n",
    "###### Random Forest : 99%"
   ]
  }
 ],
 "metadata": {
  "kernelspec": {
   "display_name": "Python 3",
   "language": "python",
   "name": "python3"
  },
  "language_info": {
   "codemirror_mode": {
    "name": "ipython",
    "version": 3
   },
   "file_extension": ".py",
   "mimetype": "text/x-python",
   "name": "python",
   "nbconvert_exporter": "python",
   "pygments_lexer": "ipython3",
   "version": "3.7.12"
  },
  "papermill": {
   "default_parameters": {},
   "duration": 26.455832,
   "end_time": "2022-01-25T14:35:51.916734",
   "environment_variables": {},
   "exception": true,
   "input_path": "__notebook__.ipynb",
   "output_path": "__notebook__.ipynb",
   "parameters": {},
   "start_time": "2022-01-25T14:35:25.460902",
   "version": "2.3.3"
  }
 },
 "nbformat": 4,
 "nbformat_minor": 5
}
